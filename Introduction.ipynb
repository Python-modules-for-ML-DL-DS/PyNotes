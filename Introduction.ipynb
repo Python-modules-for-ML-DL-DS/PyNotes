{
  "nbformat": 4,
  "nbformat_minor": 0,
  "metadata": {
    "colab": {
      "name": "Introduction.ipynb",
      "provenance": [],
      "collapsed_sections": []
    },
    "kernelspec": {
      "name": "python3",
      "display_name": "Python 3"
    }
  },
  "cells": [
    {
      "cell_type": "markdown",
      "metadata": {
        "id": "5k1ub2iG_-Ye",
        "colab_type": "text"
      },
      "source": [
        "#Hey there! Welcome to Tinkerhub Learning. \n",
        "\n"
      ]
    },
    {
      "cell_type": "markdown",
      "metadata": {
        "id": "ZEmoclaaCSWa",
        "colab_type": "text"
      },
      "source": [
        "We are very happy to have you here and all the more excited to take you through this course!"
      ]
    },
    {
      "cell_type": "markdown",
      "metadata": {
        "id": "o_5DrHKQEghz",
        "colab_type": "text"
      },
      "source": [
        "A few things before we begin...\n",
        "\n",
        "\n",
        "Right now you are looking at a file in Google colaboratory. What's special about this is that, you can instantly run the python code in the *code cell* below, without having to download any kind of external software!\n",
        "\n",
        " \n"
      ]
    },
    {
      "cell_type": "code",
      "metadata": {
        "id": "5RNOdbEFKpkf",
        "colab_type": "code",
        "colab": {}
      },
      "source": [
        "#Run the code (by clicking the button on the left or use keyboard shortcut(Shift+Enter)\n",
        "\n",
        "print(\"Print is permanant\")"
      ],
      "execution_count": 0,
      "outputs": []
    },
    {
      "cell_type": "markdown",
      "metadata": {
        "id": "Z1VxVZATL3XZ",
        "colab_type": "text"
      },
      "source": [
        "But alas! Are you not able to edit this file here? \n",
        "\n",
        "Chill.  What you need to do is: \n",
        "\n",
        " **File->Save a copy in Drive**\n",
        "\n",
        "\n",
        "There you go! An exact copy opens up in your Drive and this time you can edit it. \n",
        "\n",
        "\n",
        "**So everytime you get your notebook, save a copy to your drive and start practising there itself!**"
      ]
    },
    {
      "cell_type": "markdown",
      "metadata": {
        "id": "s5r3ZwXLogaE",
        "colab_type": "text"
      },
      "source": [
        "Okay, So now you are in the new notebook 'Copy of Introduction.ipynb' , right!\n",
        "\n",
        "\n",
        "Let me list out some points you need to know while using google colab:\n",
        "1. You can add extra text cell or code cell by clicking on **+Text and +Code** options respectively, present below toolbar and also below each cell.\n",
        "2. To RUN the cell use the keyboard shortcut(**SHIFT + ENTER**) \n",
        "3. To undo, use **Ctrl + z**\n",
        "\n",
        "That's all. \n",
        "\n",
        "You are now all set!\n",
        "Lets move on to Python."
      ]
    },
    {
      "cell_type": "markdown",
      "metadata": {
        "id": "0oggAcywCiI5",
        "colab_type": "text"
      },
      "source": [
        "Guys! You should know that Python is a powerful programming language. We have other programming languages like R programming for Machine Learning, but python will always be there!\n"
      ]
    },
    {
      "cell_type": "markdown",
      "metadata": {
        "id": "nVvLYkWbNFfe",
        "colab_type": "text"
      },
      "source": [
        "Enough of talking! Lets start our work!\n",
        "\n",
        "\n"
      ]
    },
    {
      "cell_type": "markdown",
      "metadata": {
        "id": "P7G9IG3UDivL",
        "colab_type": "text"
      },
      "source": [
        "\n",
        "\n",
        "For those who have little or no knowledge in python , we have brought you a short and lucid introduction to python programming.\n",
        "\n",
        "And those of you, who are familiar, can skip the sections you are well thorough with and revise the other sections.\n"
      ]
    },
    {
      "cell_type": "markdown",
      "metadata": {
        "id": "Tqmd6T_fruhV",
        "colab_type": "text"
      },
      "source": [
        "\n",
        "\n",
        "You already saw how we can print a statement in the console in python in *code cell* above. \n",
        "Lets get familiarised with *data types* in python.\n"
      ]
    },
    {
      "cell_type": "markdown",
      "metadata": {
        "id": "AILHudz-hZwa",
        "colab_type": "text"
      },
      "source": [
        "#Data types"
      ]
    },
    {
      "cell_type": "markdown",
      "metadata": {
        "id": "cilNE_rYrTCn",
        "colab_type": "text"
      },
      "source": [
        "Data (a number , a character , a word etc ) are stored in variables .\n",
        "Data type refers to the type of data stored in the variable.\n",
        "Python has five standard data types −\n",
        "\n",
        "*  Numbers\n",
        "*String\n",
        "*List\n",
        "*Tuple\n",
        "*Dictionary\n",
        "\n"
      ]
    },
    {
      "cell_type": "markdown",
      "metadata": {
        "id": "Z4H7APuc3FNB",
        "colab_type": "text"
      },
      "source": [
        "**Number** includes integers , floating point(decimal numbers) and complex numbers as well!"
      ]
    },
    {
      "cell_type": "markdown",
      "metadata": {
        "id": "c7aI5Q7V363G",
        "colab_type": "text"
      },
      "source": [
        "\n",
        "The best part is Python auto detects the data type! \n",
        "You need not explicitly declare them. To be more clear, lets run the code cell below and find out!"
      ]
    },
    {
      "cell_type": "code",
      "metadata": {
        "id": "SjBB_iMdVYvh",
        "colab_type": "code",
        "colab": {}
      },
      "source": [
        "#number data types\n",
        "var1 = 45.5657\n",
        "print(type(var1)) #type() function takes variable name as argument and returns the data type."
      ],
      "execution_count": 0,
      "outputs": []
    },
    {
      "cell_type": "code",
      "metadata": {
        "id": "zqzi1X7GVoab",
        "colab_type": "code",
        "colab": {}
      },
      "source": [
        "var2 = 234567890345678\n",
        "print(type(var2))"
      ],
      "execution_count": 0,
      "outputs": []
    },
    {
      "cell_type": "code",
      "metadata": {
        "id": "aLedNZmpVwuh",
        "colab_type": "code",
        "colab": {}
      },
      "source": [
        "var3 = 67 + 78.2j\n",
        "print(type(var3))"
      ],
      "execution_count": 0,
      "outputs": []
    },
    {
      "cell_type": "markdown",
      "metadata": {
        "id": "hGgA7f4FUji1",
        "colab_type": "text"
      },
      "source": [
        "\n",
        "\n",
        "**String** class is for a character or word and it is represented by quotation marks.\n",
        "We can access a particular element of the string using its index value,\n",
        "with indexes starting at 0 in the beginning of the string and working their way from -1 to the end. Did'nt get that? Lets see an example.\n",
        "\n",
        "var = \"Hello\" \n",
        "\n",
        "Here, 'H' can be referred using 0 or -5, 'o' using 4 or -1.\n",
        "\n",
        "Lets RUN some code.\n",
        "\n"
      ]
    },
    {
      "cell_type": "code",
      "metadata": {
        "id": "KC69SUZxZyTP",
        "colab_type": "code",
        "colab": {}
      },
      "source": [
        "#String variables\n",
        "str = 'Hello World!'\n",
        "print(type(str))"
      ],
      "execution_count": 0,
      "outputs": []
    },
    {
      "cell_type": "code",
      "metadata": {
        "id": "AGlNd_yoaI1e",
        "colab_type": "code",
        "colab": {}
      },
      "source": [
        "#to print first letter of the string\n",
        "print(str[0])"
      ],
      "execution_count": 0,
      "outputs": []
    },
    {
      "cell_type": "code",
      "metadata": {
        "id": "sErigA2aYEFN",
        "colab_type": "code",
        "colab": {}
      },
      "source": [
        "#TRY YOURSEF** to print the last letter of your name here using index value"
      ],
      "execution_count": 0,
      "outputs": []
    },
    {
      "cell_type": "markdown",
      "metadata": {
        "id": "37g0aXyaYL7M",
        "colab_type": "text"
      },
      "source": [
        "Simple! Right?"
      ]
    },
    {
      "cell_type": "markdown",
      "metadata": {
        "id": "xmRX33dSXgj3",
        "colab_type": "text"
      },
      "source": [
        "\n",
        "Talking about *subets*, subsets of strings can be taken using the **slice operator** ([ ] and [:] ) . The example below illustrates this concept."
      ]
    },
    {
      "cell_type": "code",
      "metadata": {
        "id": "00RZ_y5kaPJ0",
        "colab_type": "code",
        "colab": {}
      },
      "source": [
        "#to get the substring from second to fifth position\n",
        "print(str[1:5]) # 1 is inclusive and 5 is exclusive"
      ],
      "execution_count": 0,
      "outputs": []
    },
    {
      "cell_type": "code",
      "metadata": {
        "id": "jidnkxP4apCh",
        "colab_type": "code",
        "colab": {}
      },
      "source": [
        "#TRY YOURSELF ** What will be the output if you omit either of the start or end index in the slice operator?"
      ],
      "execution_count": 0,
      "outputs": []
    },
    {
      "cell_type": "markdown",
      "metadata": {
        "id": "xNI4q3oicQK4",
        "colab_type": "text"
      },
      "source": [
        "\n",
        "#List\n",
        "List and properties of lists are concepts that you should be very thorough with.\n",
        "\n",
        "Lists are the most versatile of Python's **compound** data types. A list contains items separated by commas and enclosed within square brackets([]). To some extent, lists are similar to arrays in C. One of the differences between them is that all the items belonging to a list can be of different data type.\n",
        "\n",
        "\n",
        "In Python , Lists are **mutable** i.e. value inside a list can be updated. "
      ]
    },
    {
      "cell_type": "code",
      "metadata": {
        "id": "o6pqd1WZfbKv",
        "colab_type": "code",
        "colab": {}
      },
      "source": [
        "#Creating list\n",
        "sample_list=[ 'Python' , 'Anaconda' , 'Spider' , 'Panda' , 'Data' , 'Machine' ]\n",
        "\n",
        "#creating empty list\n",
        "list_empty=[]\n",
        "print(type(list_empty))"
      ],
      "execution_count": 0,
      "outputs": []
    },
    {
      "cell_type": "code",
      "metadata": {
        "id": "aodfPq_KaS2z",
        "colab_type": "code",
        "colab": {}
      },
      "source": [
        "#updating value inside the list\n",
        "sample_list[0]= 'Python3' \n",
        "print(sample_list)"
      ],
      "execution_count": 0,
      "outputs": []
    },
    {
      "cell_type": "markdown",
      "metadata": {
        "id": "Ng7jaumbXwUw",
        "colab_type": "text"
      },
      "source": [
        "In python , the index value of the elements of the list start from 0. \n",
        "\n",
        "In the above example the index value ranges from 0 to 5. We can address the elements through negative index values as well!\n"
      ]
    },
    {
      "cell_type": "code",
      "metadata": {
        "id": "q03LdCuJY7KQ",
        "colab_type": "code",
        "colab": {}
      },
      "source": [
        "#run the code below! What is the ouput?\n",
        "print(sample_list[-1])"
      ],
      "execution_count": 0,
      "outputs": []
    },
    {
      "cell_type": "markdown",
      "metadata": {
        "id": "pr1J6nyrZLw8",
        "colab_type": "text"
      },
      "source": [
        "Ya! The above code prints the last value of the list. Hence , we can access the last value without knowing the length of the entire list! \n",
        "\n",
        "\n",
        " If the list is of size 5, then integer values from -5 to 4 can be used to address the elements."
      ]
    },
    {
      "cell_type": "code",
      "metadata": {
        "id": "ZG27MnNQaKuj",
        "colab_type": "code",
        "colab": {}
      },
      "source": [
        "#what is the output of the following code?\n",
        "sample_list=[ 'Python' , 'Anaconda' , 'Spider' , 'Panda' , 'Data' , 'Machine' ]\n",
        "print(sample_list[2])\n",
        "print(sample_list[-2])\n"
      ],
      "execution_count": 0,
      "outputs": []
    },
    {
      "cell_type": "code",
      "metadata": {
        "id": "ge2aSyj9a2YZ",
        "colab_type": "code",
        "colab": {}
      },
      "source": [
        "#write the code to print the first and last value of a list"
      ],
      "execution_count": 0,
      "outputs": []
    },
    {
      "cell_type": "markdown",
      "metadata": {
        "id": "5jwz3h1wfUPE",
        "colab_type": "text"
      },
      "source": [
        "We are including only those concepts which you need to know in this course, but its highly recommended that you visit the links provided\n",
        "[here](https://www.w3schools.com/python/python_lists.asp)\n",
        "and learn more about them.\n",
        "\n",
        "[More resources](https://www.programiz.com/python-programming/list)\n",
        "\n"
      ]
    },
    {
      "cell_type": "markdown",
      "metadata": {
        "id": "nOVxlXDfoLOl",
        "colab_type": "text"
      },
      "source": [
        "#Tuples"
      ]
    },
    {
      "cell_type": "markdown",
      "metadata": {
        "id": "quTYqTOQoOBZ",
        "colab_type": "text"
      },
      "source": [
        "A tuple is another sequence data type that is similar to the list. A tuple consists of a number of values separated by commas. Unlike lists, however, tuples are enclosed within parenthesis.\n",
        "\n",
        "Example : ( 'Monday' , 'April' ,  2020)\n",
        "\n",
        "\n",
        "Tuples are **immutable**.  Heard that word just recently? Yah, so the value of  the elements cannot be updated."
      ]
    },
    {
      "cell_type": "code",
      "metadata": {
        "id": "crPSOerYs_6R",
        "colab_type": "code",
        "colab": {}
      },
      "source": [
        "tuple = ( 'abcd', 786 , 2.23, 'john', 70.2  )\n",
        "print(type(tuple))"
      ],
      "execution_count": 0,
      "outputs": []
    },
    {
      "cell_type": "markdown",
      "metadata": {
        "id": "nvNSWOfftIjO",
        "colab_type": "text"
      },
      "source": [
        "Can you predict the putput of the following code?"
      ]
    },
    {
      "cell_type": "code",
      "metadata": {
        "id": "bC9jmJnptIEZ",
        "colab_type": "code",
        "colab": {}
      },
      "source": [
        "list_=[ 'Monday', 'Wednesday', 'Wednesday']\n",
        "tuple_=('Thursday','Friday','Friday')\n",
        "list_[1]='Tuesday'\n",
        "tuple_[2]='Saturday'\n",
        "print(list_)\n",
        "print(tuple_)"
      ],
      "execution_count": 0,
      "outputs": []
    },
    {
      "cell_type": "markdown",
      "metadata": {
        "id": "xDL1tof5t1E7",
        "colab_type": "text"
      },
      "source": [
        "Comment the line that has error and run the code again!"
      ]
    },
    {
      "cell_type": "markdown",
      "metadata": {
        "id": "HESxpHHxeDwJ",
        "colab_type": "text"
      },
      "source": [
        "Got to this [link](https://www.w3schools.com/python/python_tuples.asp) to check out more detail about tuples.\n",
        "\n",
        "[More resources](https://www.programiz.com/python-programming/tuple)"
      ]
    },
    {
      "cell_type": "markdown",
      "metadata": {
        "id": "bwC5LNRduQo_",
        "colab_type": "text"
      },
      "source": [
        "#Dictionary\n",
        "It stores data in key value pairs.\n",
        "The Syntax  is as shown below.\n",
        "\n",
        "dict = {'Name' :  'Nakul' , 'Age' : 17 }\n",
        "\n",
        "Here , the key 'Name' has value 'Nakul' and the key 'Age' has value 17.\n",
        "\n",
        "\n",
        "* Keys are immutable and values are mutable.\n",
        "* Duplicate keys are not allowed.\n"
      ]
    },
    {
      "cell_type": "code",
      "metadata": {
        "id": "0lNchdSJxBAs",
        "colab_type": "code",
        "colab": {}
      },
      "source": [
        "dict = {'Name' : 'Nakul' , 'Age' : 17 }\n",
        "print(type(dict))"
      ],
      "execution_count": 0,
      "outputs": []
    },
    {
      "cell_type": "code",
      "metadata": {
        "id": "a77aI8-_fN_m",
        "colab_type": "code",
        "colab": {}
      },
      "source": [
        ""
      ],
      "execution_count": 0,
      "outputs": []
    },
    {
      "cell_type": "code",
      "metadata": {
        "id": "-D-zkFilxURZ",
        "colab_type": "code",
        "colab": {}
      },
      "source": [
        "#the function values() returns a list of the values in the dictionary\n",
        "l=dict.values()\n",
        "print(l)\n"
      ],
      "execution_count": 0,
      "outputs": []
    },
    {
      "cell_type": "code",
      "metadata": {
        "id": "gRDcNVStxYRH",
        "colab_type": "code",
        "colab": {}
      },
      "source": [
        "#the function items()returns tuples of key value pairs\n",
        "print(dict.items())"
      ],
      "execution_count": 0,
      "outputs": []
    },
    {
      "cell_type": "markdown",
      "metadata": {
        "id": "beyFPFhPejYu",
        "colab_type": "text"
      },
      "source": [
        "To know more about dictionaries, go to [this link](https://www.w3schools.com/python/python_dictionaries.asp)\n",
        "\n",
        "[More resources](https://www.programiz.com/python-programming/dictionary)\n",
        "\n"
      ]
    },
    {
      "cell_type": "markdown",
      "metadata": {
        "id": "ig2X-NRAg0Ek",
        "colab_type": "text"
      },
      "source": [
        "#Sets"
      ]
    },
    {
      "cell_type": "markdown",
      "metadata": {
        "id": "UcjZ49mBgwHu",
        "colab_type": "text"
      },
      "source": [
        "A set is a collection which is unordered and unindexed. In Python sets are written with curly brackets.\n",
        "\n",
        "You cannot access items in a set by referring to an index, since sets are unordered the items has no index.\n",
        "But you can loop through the set items using a for loop, or ask if a specified value is present in a set, by using the in keyword."
      ]
    },
    {
      "cell_type": "code",
      "metadata": {
        "id": "mZS0eY4ag2pR",
        "colab_type": "code",
        "colab": {}
      },
      "source": [
        "Fruits = { 'Jackfruit' , 'Avocado', 'Kiwi'}\n",
        "print(type(Fruits))"
      ],
      "execution_count": 0,
      "outputs": []
    },
    {
      "cell_type": "code",
      "metadata": {
        "id": "1fcwRbJLhVbp",
        "colab_type": "code",
        "colab": {}
      },
      "source": [
        "print(Fruits)   #Will the set be printed in the same order as it was initialised?"
      ],
      "execution_count": 0,
      "outputs": []
    },
    {
      "cell_type": "markdown",
      "metadata": {
        "id": "Pp0EYLvmhjdf",
        "colab_type": "text"
      },
      "source": [
        "As you have learned in mathematics, there are many operations possible in sets, like, union, intersection, difference, etc. and Python has functions to perform all those operations. \n",
        "Check them out \n",
        "[here](https://www.w3schools.com/python/python_sets.asp)\n",
        "\n",
        "[More resources](https://www.programiz.com/python-programming/set)\n",
        "\n"
      ]
    },
    {
      "cell_type": "markdown",
      "metadata": {
        "id": "4zuOQ7kbzsDH",
        "colab_type": "text"
      },
      "source": [
        "Okay! done with data types, lets move on to an important function called range()."
      ]
    },
    {
      "cell_type": "markdown",
      "metadata": {
        "id": "dmlvUno3z1pR",
        "colab_type": "text"
      },
      "source": [
        "#range() function"
      ]
    },
    {
      "cell_type": "markdown",
      "metadata": {
        "id": "1ElMvgXX0Ykv",
        "colab_type": "text"
      },
      "source": [
        "range() function returns a sequence of numbers, starting from 0 by default, and increments by 1 (by default), and ends at a specified number.\n",
        "\n",
        "Syntax is: range(start , end , step)\n",
        "\n",
        "\n",
        "start\t  : Optional. An integer number specifying at which position to start. Default is 0\n",
        "\n",
        "\n",
        "stop\t:  Required. An integer number specifying at which position to end.\n",
        "\n",
        "\n",
        "step\t:  Optional. An integer number specifying the incrementation. Default is 1\n",
        "Run the code to find out."
      ]
    },
    {
      "cell_type": "code",
      "metadata": {
        "id": "Lqbag06a0ldx",
        "colab_type": "code",
        "colab": {}
      },
      "source": [
        "x = range(2, 20, 2) \n",
        "for n in x:           #There! Introducing you to for loop\n",
        "  print(n)"
      ],
      "execution_count": 0,
      "outputs": []
    },
    {
      "cell_type": "markdown",
      "metadata": {
        "id": "673hzkKZin_p",
        "colab_type": "text"
      },
      "source": [
        "#len() function\n",
        "To find the size or length of a string , a tuple ,a  set or any object of a class, we have the len() function. It returns the number of items in an  object."
      ]
    },
    {
      "cell_type": "code",
      "metadata": {
        "id": "ZkWofw4hjZyE",
        "colab_type": "code",
        "outputId": "90b1c5ee-5e05-49ee-8f95-2470c861864e",
        "colab": {
          "base_uri": "https://localhost:8080/",
          "height": 34
        }
      },
      "source": [
        "var = 'Pynote'\n",
        "print(len(var))"
      ],
      "execution_count": 0,
      "outputs": [
        {
          "output_type": "stream",
          "text": [
            "6\n"
          ],
          "name": "stdout"
        }
      ]
    },
    {
      "cell_type": "markdown",
      "metadata": {
        "id": "pWbTtg2vjr2r",
        "colab_type": "text"
      },
      "source": [
        "Here var is an object of the string class. len() takes the object as argument and returns the number of items in it."
      ]
    },
    {
      "cell_type": "code",
      "metadata": {
        "id": "s3vW0WCckMd2",
        "colab_type": "code",
        "outputId": "f0da839e-a3d7-4ac0-f979-5a4a12e5cc12",
        "colab": {
          "base_uri": "https://localhost:8080/",
          "height": 34
        }
      },
      "source": [
        "# For a list\n",
        "print(len(sample_list))"
      ],
      "execution_count": 0,
      "outputs": [
        {
          "output_type": "stream",
          "text": [
            "6\n"
          ],
          "name": "stdout"
        }
      ]
    },
    {
      "cell_type": "markdown",
      "metadata": {
        "id": "ZwNr9dkCuF1x",
        "colab_type": "text"
      },
      "source": [
        "#Importing modules"
      ]
    },
    {
      "cell_type": "markdown",
      "metadata": {
        "id": "yltw1myBVSwn",
        "colab_type": "text"
      },
      "source": [
        " Lets see another very frequent code, which is,   importing module.\n",
        "\n",
        "To import a module we use the import statement"
      ]
    },
    {
      "cell_type": "code",
      "metadata": {
        "id": "WjfwRgiYTbYv",
        "colab_type": "code",
        "colab": {}
      },
      "source": [
        "import numpy as np\n",
        "import pandas as pd \n",
        "import matplotlib.pyplot as plt\n"
      ],
      "execution_count": 0,
      "outputs": []
    },
    {
      "cell_type": "markdown",
      "metadata": {
        "id": "M8CV3BFNIGCB",
        "colab_type": "text"
      },
      "source": [
        "The above code will import numpy pandas and pyplot with the user defined name np , pd and plt respectively. \n",
        "\n",
        "Cool.\n",
        "These three lines of code will now help us use an ocean of powerful functions that are used for data manipulation."
      ]
    },
    {
      "cell_type": "markdown",
      "metadata": {
        "id": "TESTdfMjbpOg",
        "colab_type": "text"
      },
      "source": [
        "OKay!  You are all set to move on to the next notebook.        Stay tuned. Happy learning!\n",
        "\n"
      ]
    }
  ]
}