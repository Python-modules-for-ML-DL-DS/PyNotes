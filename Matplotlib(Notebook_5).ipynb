{
  "nbformat": 4,
  "nbformat_minor": 0,
  "metadata": {
    "colab": {
      "name": "Matplotlib.ipynb",
      "provenance": [],
      "collapsed_sections": [],
      "toc_visible": true
    },
    "kernelspec": {
      "name": "python3",
      "display_name": "Python 3"
    }
  },
  "cells": [
    {
      "cell_type": "markdown",
      "metadata": {
        "id": "m-DGsTaB5ObA",
        "colab_type": "text"
      },
      "source": [
        "#Welcome back!\n",
        "Entering to the last notebook of Pynote! As you are now familiar with numpy, and pandas, lets move on to the most interesting part, data visualisation using matplotlib! \n",
        "Yeah! you heard right, we will learn data visualisation! "
      ]
    },
    {
      "cell_type": "markdown",
      "metadata": {
        "id": "zkiJmkIA7YrA",
        "colab_type": "text"
      },
      "source": [
        "Lets learn to plot some graphs in python using pyplot.\n",
        "First lets collect some information to plot.\n",
        "\n",
        "To demonstrate how things look like, lets just take some arbitiary values to visualise.\n"
      ]
    },
    {
      "cell_type": "markdown",
      "metadata": {
        "id": "mkJtcgzJ-Ix3",
        "colab_type": "text"
      },
      "source": [
        "#Linear Plot"
      ]
    },
    {
      "cell_type": "markdown",
      "metadata": {
        "id": "z0dcM5WmDakO",
        "colab_type": "text"
      },
      "source": [
        "Suppose, in Munnar, the temperature on monday is 27<sup>o</sup>C, tuesday is 31<sup>o</sup>C, wednesday is 32<sup>o</sup>C, Thursday is 29<sup>o</sup>C.\n",
        "How will we plot a graph for this data?\n",
        "\n",
        "Lets store the days as a list in the variable *Days*.\n",
        "\n"
      ]
    },
    {
      "cell_type": "code",
      "metadata": {
        "id": "VnfxpP3XEgjf",
        "colab_type": "code",
        "colab": {}
      },
      "source": [
        "Days=['Monday', 'Tuesday', 'Wednesday','Thursday']  #Run the cell"
      ],
      "execution_count": 0,
      "outputs": []
    },
    {
      "cell_type": "markdown",
      "metadata": {
        "id": "Wyjavas9EuMS",
        "colab_type": "text"
      },
      "source": [
        "Now , store the corresponding values in another list, *Temperature*"
      ]
    },
    {
      "cell_type": "code",
      "metadata": {
        "id": "SpVb-t4V-Z0u",
        "colab_type": "code",
        "colab": {}
      },
      "source": [
        "Temperature= [23, 25, 27 , 24]   #Run the cell"
      ],
      "execution_count": 0,
      "outputs": []
    },
    {
      "cell_type": "markdown",
      "metadata": {
        "id": "AYoJpGjoTVuC",
        "colab_type": "text"
      },
      "source": [
        "We use matplotlib.pyplot to plot the graph of the above values."
      ]
    },
    {
      "cell_type": "code",
      "metadata": {
        "id": "O18UTeCATkcO",
        "colab_type": "code",
        "colab": {}
      },
      "source": [
        "import matplotlib.pyplot as plt"
      ],
      "execution_count": 0,
      "outputs": []
    },
    {
      "cell_type": "markdown",
      "metadata": {
        "id": "bgUXo7_VClKd",
        "colab_type": "text"
      },
      "source": [
        "plot() function is used to plot the graph. "
      ]
    },
    {
      "cell_type": "code",
      "metadata": {
        "id": "E5_kmymtBJ6l",
        "colab_type": "code",
        "colab": {}
      },
      "source": [
        "plt.plot(Days,Temperature)   #Days will be plotted on X axis and Temperature on Y axis\n",
        "plt.show()                   #show() function displays the plotted graph."
      ],
      "execution_count": 0,
      "outputs": []
    },
    {
      "cell_type": "markdown",
      "metadata": {
        "id": "h_bgVq8dSXlC",
        "colab_type": "text"
      },
      "source": [
        "Voila! That is a simple and nice graph, right.\n",
        "\n",
        "Note that the shape of the list Day and temperature is same. The value at each index in the first list is plotted against the corresponding value in the second list."
      ]
    },
    {
      "cell_type": "markdown",
      "metadata": {
        "id": "I1Qcct9IUmgr",
        "colab_type": "text"
      },
      "source": [
        "There is an additional argument in plot() function that allows us to indicate the colour and type of plot. By default it is blue lines('b-')\n",
        "Add an additional argument to the plot function above, ('ro') and check the result."
      ]
    },
    {
      "cell_type": "code",
      "metadata": {
        "id": "VCqIZQQcSD9E",
        "colab_type": "code",
        "colab": {}
      },
      "source": [
        "#plt.plot(Day,Temperature,'ro')"
      ],
      "execution_count": 0,
      "outputs": []
    },
    {
      "cell_type": "markdown",
      "metadata": {
        "id": "9RNcmm6NVJHy",
        "colab_type": "text"
      },
      "source": [
        "Does the graph look empty because looking at the graph we cannot guess what are the values that are plotted in the y axix, right?\n",
        "So, to name the label the x and y axis we have , xlabel() and ylabel() functions.\n"
      ]
    },
    {
      "cell_type": "code",
      "metadata": {
        "id": "2yh3D8MNVsYN",
        "colab_type": "code",
        "colab": {}
      },
      "source": [
        "plt.plot(Days,Temperature) \n",
        "plt.xlabel('Days')\n",
        "plt.ylabel('Temperature in Celsius')\n",
        "plt.show()"
      ],
      "execution_count": 0,
      "outputs": []
    },
    {
      "cell_type": "markdown",
      "metadata": {
        "id": "PJ6cfuNcY_qf",
        "colab_type": "text"
      },
      "source": [
        "Another example,\n",
        "\n",
        "Suppose, in Kottayam, the temperature on monday is 38<sup>o</sup>C, tuesday is 36<sup>o</sup>C, wednesday is 39<sup>o</sup>C, thursday is 38<sup>o</sup>C.\n",
        "Lets store these values in the variable, *Temperature_K*\n"
      ]
    },
    {
      "cell_type": "code",
      "metadata": {
        "id": "Zk9WWdrAbtra",
        "colab_type": "code",
        "colab": {}
      },
      "source": [
        "# write the correspoding list here. a\n",
        "Temperature_K = [38, 36 , 39, 38]"
      ],
      "execution_count": 0,
      "outputs": []
    },
    {
      "cell_type": "markdown",
      "metadata": {
        "id": "F1wQFpdEby9C",
        "colab_type": "text"
      },
      "source": [
        "Lets see how the graph will look like.\n"
      ]
    },
    {
      "cell_type": "code",
      "metadata": {
        "id": "0jGZZTMJb3zg",
        "colab_type": "code",
        "colab": {}
      },
      "source": [
        "# write the code to print the plot with x label and y label.\n"
      ],
      "execution_count": 0,
      "outputs": []
    },
    {
      "cell_type": "markdown",
      "metadata": {
        "id": "6tA-MKvRd0M1",
        "colab_type": "text"
      },
      "source": [
        "Lets combine these two graphs on a single plot.\n",
        "\n"
      ]
    },
    {
      "cell_type": "code",
      "metadata": {
        "id": "3ZatdmdbeE_1",
        "colab_type": "code",
        "colab": {}
      },
      "source": [
        "plt.plot(Days,Temperature)   #Munnar\n",
        "plt.plot(Days,Temperature_K)  #Kottayam\n",
        "#add x and y label\n",
        "plt.show() \n"
      ],
      "execution_count": 0,
      "outputs": []
    },
    {
      "cell_type": "markdown",
      "metadata": {
        "id": "8V3WzoADgK2j",
        "colab_type": "text"
      },
      "source": [
        "How will you differentiate between those two graphs? Which data is of Munnar and which is of Kottayam.For that we need to add legends.\n",
        "\n",
        "\n",
        "Legends are the text that has to be read in order to understand the graph.They explain the function or values underlying the different lines of the chart.\n",
        "We have to add another attribute called label in the plot statement that will describe about the graph.\n",
        "\n",
        "Make these **changes** in the statements  in the above code, and check out the look.\n",
        "\n"
      ]
    },
    {
      "cell_type": "code",
      "metadata": {
        "id": "LABd5w1beRmB",
        "colab_type": "code",
        "colab": {}
      },
      "source": [
        "#Update the above code and RUN\n",
        "plt.plot(Days,Temperature,label=\"Munnar\")       \n",
        "plt.plot(Days ,Temperature_K,label = \"Kottayam\")\n",
        "plt.legend()                    #Add this statement above plt.show()"
      ],
      "execution_count": 0,
      "outputs": []
    },
    {
      "cell_type": "markdown",
      "metadata": {
        "id": "Jf8llvtMWhI2",
        "colab_type": "text"
      },
      "source": [
        "Looks more comprehensible to a third person seeing this graph.right?"
      ]
    },
    {
      "cell_type": "markdown",
      "metadata": {
        "id": "iuHcS2FxXQnX",
        "colab_type": "text"
      },
      "source": [
        "#Scatter plot"
      ]
    },
    {
      "cell_type": "markdown",
      "metadata": {
        "id": "EivLw2lur7IJ",
        "colab_type": "text"
      },
      "source": [
        "Rather than straight lines we can scatter the points in the plane, using plt.scatter().\n",
        "replace all the plot() function with scatter() function. The arguments are same."
      ]
    },
    {
      "cell_type": "code",
      "metadata": {
        "colab_type": "code",
        "id": "Z5sm2OshsVgU",
        "colab": {}
      },
      "source": [
        "#copy the above code, replace plot() with scatter() and run.\n",
        "\n",
        "  "
      ],
      "execution_count": 0,
      "outputs": []
    },
    {
      "cell_type": "markdown",
      "metadata": {
        "id": "M_Gb8BK4s1v9",
        "colab_type": "text"
      },
      "source": [
        "Since we have taken a very very small amount of data to plot, the graph may not look so exciting. When we have bigger amount of data , data visualisation is helpful because a visual summary of information makes it easier to identify patterns and trends than looking through thousands of rows on a spreadsheet.\n"
      ]
    },
    {
      "cell_type": "markdown",
      "metadata": {
        "id": "ao3tTXEtFEFe",
        "colab_type": "text"
      },
      "source": [
        "#Histograms\n",
        "Histograms are used to represent data given in form of some groups. X-axis is about bin(width) ranges where Y-axis talks about frequency.\n",
        "The hist() function is used to plot histograms.\n",
        "Lets see how a histogram looks like.\n",
        "\n"
      ]
    },
    {
      "cell_type": "code",
      "metadata": {
        "id": "qZc6XE58MiQJ",
        "colab_type": "code",
        "colab": {}
      },
      "source": [
        "import matplotlib.pyplot as plt \n",
        "import pandas as pd \n",
        "import numpy as np \n",
        "  \n",
        "dataframe = pd.DataFrame({'a': np.random.randn(1000) + 1}, columns =['a']) #creating a pandas dataframe using dictionary\n",
        "dataframe.plot.hist(alpha = 0.5) \n",
        "plt.show() "
      ],
      "execution_count": 0,
      "outputs": []
    },
    {
      "cell_type": "markdown",
      "metadata": {
        "id": "CXpGa3-hM2Lc",
        "colab_type": "text"
      },
      "source": [
        "You can explore other plots like pie plot and bar plot etc.\n",
        "Lets move on to our dataset and plot some graphs."
      ]
    },
    {
      "cell_type": "markdown",
      "metadata": {
        "id": "2ueLSLBavm8q",
        "colab_type": "text"
      },
      "source": [
        "Now let's come back to our 'Loan_data.csv' ets work on a data set.\n",
        "\n",
        "\n"
      ]
    },
    {
      "cell_type": "code",
      "metadata": {
        "id": "cEzHFbEJrcpT",
        "colab_type": "code",
        "outputId": "4d60cd44-a535-4114-f28d-96fb77aac061",
        "colab": {
          "resources": {
            "http://localhost:8080/nbextensions/google.colab/files.js": {
              "data": "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",
              "ok": true,
              "headers": [
                [
                  "content-type",
                  "application/javascript"
                ]
              ],
              "status": 200,
              "status_text": ""
            }
          },
          "base_uri": "https://localhost:8080/",
          "height": 74
        }
      },
      "source": [
        "#Run this cell\n",
        "#This is the step where you upload your file from the local file system.\n",
        "\n",
        "import io\n",
        "from google.colab import files\n",
        "uploaded = files.upload()"
      ],
      "execution_count": 0,
      "outputs": [
        {
          "output_type": "display_data",
          "data": {
            "text/html": [
              "\n",
              "     <input type=\"file\" id=\"files-cd04c68d-c290-4aaa-af87-e1d492f4aa2f\" name=\"files[]\" multiple disabled />\n",
              "     <output id=\"result-cd04c68d-c290-4aaa-af87-e1d492f4aa2f\">\n",
              "      Upload widget is only available when the cell has been executed in the\n",
              "      current browser session. Please rerun this cell to enable.\n",
              "      </output>\n",
              "      <script src=\"/nbextensions/google.colab/files.js\"></script> "
            ],
            "text/plain": [
              "<IPython.core.display.HTML object>"
            ]
          },
          "metadata": {
            "tags": []
          }
        },
        {
          "output_type": "stream",
          "text": [
            "Saving Loan_data.csv to Loan_data.csv\n"
          ],
          "name": "stdout"
        }
      ]
    },
    {
      "cell_type": "code",
      "metadata": {
        "id": "Ky9xfa40Qao5",
        "colab_type": "code",
        "outputId": "095672ee-2ffd-4bbd-e3b0-af3c9815ff56",
        "colab": {
          "base_uri": "https://localhost:8080/",
          "height": 443
        }
      },
      "source": [
        "#Read the file and print\n",
        "import pandas as pd\n",
        "data = pd.read_csv(io.StringIO(uploaded['Loan_data.csv'].decode('utf-8')))\n",
        "data"
      ],
      "execution_count": 0,
      "outputs": [
        {
          "output_type": "execute_result",
          "data": {
            "text/html": [
              "<div>\n",
              "<style scoped>\n",
              "    .dataframe tbody tr th:only-of-type {\n",
              "        vertical-align: middle;\n",
              "    }\n",
              "\n",
              "    .dataframe tbody tr th {\n",
              "        vertical-align: top;\n",
              "    }\n",
              "\n",
              "    .dataframe thead th {\n",
              "        text-align: right;\n",
              "    }\n",
              "</style>\n",
              "<table border=\"1\" class=\"dataframe\">\n",
              "  <thead>\n",
              "    <tr style=\"text-align: right;\">\n",
              "      <th></th>\n",
              "      <th>Loan_ID</th>\n",
              "      <th>Gender</th>\n",
              "      <th>Married</th>\n",
              "      <th>Dependents</th>\n",
              "      <th>Education</th>\n",
              "      <th>Self_Employed</th>\n",
              "      <th>ApplicantIncome</th>\n",
              "      <th>CoapplicantIncome</th>\n",
              "      <th>LoanAmount</th>\n",
              "      <th>Loan_Amount_Term</th>\n",
              "      <th>Credit_History</th>\n",
              "      <th>Property_Area</th>\n",
              "      <th>Loan_Status</th>\n",
              "    </tr>\n",
              "  </thead>\n",
              "  <tbody>\n",
              "    <tr>\n",
              "      <th>0</th>\n",
              "      <td>LP001002</td>\n",
              "      <td>Male</td>\n",
              "      <td>No</td>\n",
              "      <td>0</td>\n",
              "      <td>Graduate</td>\n",
              "      <td>No</td>\n",
              "      <td>5849</td>\n",
              "      <td>0.0</td>\n",
              "      <td>76.0</td>\n",
              "      <td>360.0</td>\n",
              "      <td>1.0</td>\n",
              "      <td>Urban</td>\n",
              "      <td>Y</td>\n",
              "    </tr>\n",
              "    <tr>\n",
              "      <th>1</th>\n",
              "      <td>LP001003</td>\n",
              "      <td>Male</td>\n",
              "      <td>Yes</td>\n",
              "      <td>1</td>\n",
              "      <td>Graduate</td>\n",
              "      <td>No</td>\n",
              "      <td>4583</td>\n",
              "      <td>1508.0</td>\n",
              "      <td>128.0</td>\n",
              "      <td>360.0</td>\n",
              "      <td>1.0</td>\n",
              "      <td>Rural</td>\n",
              "      <td>N</td>\n",
              "    </tr>\n",
              "    <tr>\n",
              "      <th>2</th>\n",
              "      <td>LP001005</td>\n",
              "      <td>Male</td>\n",
              "      <td>Yes</td>\n",
              "      <td>0</td>\n",
              "      <td>Graduate</td>\n",
              "      <td>Yes</td>\n",
              "      <td>3000</td>\n",
              "      <td>0.0</td>\n",
              "      <td>66.0</td>\n",
              "      <td>360.0</td>\n",
              "      <td>1.0</td>\n",
              "      <td>Urban</td>\n",
              "      <td>Y</td>\n",
              "    </tr>\n",
              "    <tr>\n",
              "      <th>3</th>\n",
              "      <td>LP001006</td>\n",
              "      <td>Male</td>\n",
              "      <td>Yes</td>\n",
              "      <td>0</td>\n",
              "      <td>Not Graduate</td>\n",
              "      <td>No</td>\n",
              "      <td>2583</td>\n",
              "      <td>2358.0</td>\n",
              "      <td>120.0</td>\n",
              "      <td>360.0</td>\n",
              "      <td>1.0</td>\n",
              "      <td>Urban</td>\n",
              "      <td>Y</td>\n",
              "    </tr>\n",
              "    <tr>\n",
              "      <th>4</th>\n",
              "      <td>LP001008</td>\n",
              "      <td>Male</td>\n",
              "      <td>No</td>\n",
              "      <td>0</td>\n",
              "      <td>Graduate</td>\n",
              "      <td>No</td>\n",
              "      <td>6000</td>\n",
              "      <td>0.0</td>\n",
              "      <td>141.0</td>\n",
              "      <td>360.0</td>\n",
              "      <td>1.0</td>\n",
              "      <td>Urban</td>\n",
              "      <td>Y</td>\n",
              "    </tr>\n",
              "    <tr>\n",
              "      <th>...</th>\n",
              "      <td>...</td>\n",
              "      <td>...</td>\n",
              "      <td>...</td>\n",
              "      <td>...</td>\n",
              "      <td>...</td>\n",
              "      <td>...</td>\n",
              "      <td>...</td>\n",
              "      <td>...</td>\n",
              "      <td>...</td>\n",
              "      <td>...</td>\n",
              "      <td>...</td>\n",
              "      <td>...</td>\n",
              "      <td>...</td>\n",
              "    </tr>\n",
              "    <tr>\n",
              "      <th>609</th>\n",
              "      <td>LP002978</td>\n",
              "      <td>Female</td>\n",
              "      <td>No</td>\n",
              "      <td>0</td>\n",
              "      <td>Graduate</td>\n",
              "      <td>No</td>\n",
              "      <td>2900</td>\n",
              "      <td>0.0</td>\n",
              "      <td>71.0</td>\n",
              "      <td>360.0</td>\n",
              "      <td>1.0</td>\n",
              "      <td>Rural</td>\n",
              "      <td>Y</td>\n",
              "    </tr>\n",
              "    <tr>\n",
              "      <th>610</th>\n",
              "      <td>LP002979</td>\n",
              "      <td>Male</td>\n",
              "      <td>Yes</td>\n",
              "      <td>3+</td>\n",
              "      <td>Graduate</td>\n",
              "      <td>No</td>\n",
              "      <td>4106</td>\n",
              "      <td>0.0</td>\n",
              "      <td>40.0</td>\n",
              "      <td>180.0</td>\n",
              "      <td>1.0</td>\n",
              "      <td>Rural</td>\n",
              "      <td>Y</td>\n",
              "    </tr>\n",
              "    <tr>\n",
              "      <th>611</th>\n",
              "      <td>LP002983</td>\n",
              "      <td>Male</td>\n",
              "      <td>Yes</td>\n",
              "      <td>1</td>\n",
              "      <td>Graduate</td>\n",
              "      <td>No</td>\n",
              "      <td>8072</td>\n",
              "      <td>240.0</td>\n",
              "      <td>253.0</td>\n",
              "      <td>360.0</td>\n",
              "      <td>1.0</td>\n",
              "      <td>Urban</td>\n",
              "      <td>Y</td>\n",
              "    </tr>\n",
              "    <tr>\n",
              "      <th>612</th>\n",
              "      <td>LP002984</td>\n",
              "      <td>Male</td>\n",
              "      <td>Yes</td>\n",
              "      <td>2</td>\n",
              "      <td>Graduate</td>\n",
              "      <td>No</td>\n",
              "      <td>7583</td>\n",
              "      <td>0.0</td>\n",
              "      <td>187.0</td>\n",
              "      <td>360.0</td>\n",
              "      <td>1.0</td>\n",
              "      <td>Urban</td>\n",
              "      <td>Y</td>\n",
              "    </tr>\n",
              "    <tr>\n",
              "      <th>613</th>\n",
              "      <td>LP002990</td>\n",
              "      <td>Female</td>\n",
              "      <td>No</td>\n",
              "      <td>0</td>\n",
              "      <td>Graduate</td>\n",
              "      <td>Yes</td>\n",
              "      <td>4583</td>\n",
              "      <td>0.0</td>\n",
              "      <td>133.0</td>\n",
              "      <td>360.0</td>\n",
              "      <td>0.0</td>\n",
              "      <td>Semiurban</td>\n",
              "      <td>N</td>\n",
              "    </tr>\n",
              "  </tbody>\n",
              "</table>\n",
              "<p>614 rows × 13 columns</p>\n",
              "</div>"
            ],
            "text/plain": [
              "      Loan_ID  Gender Married  ... Credit_History Property_Area Loan_Status\n",
              "0    LP001002    Male      No  ...            1.0         Urban           Y\n",
              "1    LP001003    Male     Yes  ...            1.0         Rural           N\n",
              "2    LP001005    Male     Yes  ...            1.0         Urban           Y\n",
              "3    LP001006    Male     Yes  ...            1.0         Urban           Y\n",
              "4    LP001008    Male      No  ...            1.0         Urban           Y\n",
              "..        ...     ...     ...  ...            ...           ...         ...\n",
              "609  LP002978  Female      No  ...            1.0         Rural           Y\n",
              "610  LP002979    Male     Yes  ...            1.0         Rural           Y\n",
              "611  LP002983    Male     Yes  ...            1.0         Urban           Y\n",
              "612  LP002984    Male     Yes  ...            1.0         Urban           Y\n",
              "613  LP002990  Female      No  ...            0.0     Semiurban           N\n",
              "\n",
              "[614 rows x 13 columns]"
            ]
          },
          "metadata": {
            "tags": []
          },
          "execution_count": 68
        }
      ]
    },
    {
      "cell_type": "markdown",
      "metadata": {
        "id": "AyTmEFXsVxqz",
        "colab_type": "text"
      },
      "source": [
        "Suppose from the above data we need to visualise if the relation between income and loan taken by the people of this bank.\n"
      ]
    },
    {
      "cell_type": "markdown",
      "metadata": {
        "id": "X-f742tftib6",
        "colab_type": "text"
      },
      "source": [
        "For that, lets sort the data by income of the applicant.\n",
        "\n",
        "We will learn how to use sort_values() function. \n",
        "\n",
        "\n",
        "Syntax: **Dataframe.sort_values(by='coloumn_name',ascending =True )**\n",
        "\n"
      ]
    },
    {
      "cell_type": "code",
      "metadata": {
        "id": "YPI_oH4ywPOG",
        "colab_type": "code",
        "colab": {}
      },
      "source": [
        "#sorting values by applicant income\n",
        "data=data.sort_values(by='ApplicantIncome')"
      ],
      "execution_count": 0,
      "outputs": []
    },
    {
      "cell_type": "code",
      "metadata": {
        "id": "fm3ai5iXXr2O",
        "colab_type": "code",
        "colab": {}
      },
      "source": [
        "#code to select the loan coloumn\n",
        "loan=data.loc[:,['LoanAmount']]\n",
        "loan"
      ],
      "execution_count": 0,
      "outputs": []
    },
    {
      "cell_type": "code",
      "metadata": {
        "id": "DhRpmA90Y4pU",
        "colab_type": "code",
        "colab": {}
      },
      "source": [
        "#code to select applicant income\n",
        "income=data.loc[:,['ApplicantIncome']]\n",
        "#income"
      ],
      "execution_count": 0,
      "outputs": []
    },
    {
      "cell_type": "code",
      "metadata": {
        "id": "txb0ImcQY4lR",
        "colab_type": "code",
        "colab": {}
      },
      "source": [
        "plt.scatter(income,loan)\n",
        "#Add x label and y label here\n",
        "plt.show()"
      ],
      "execution_count": 0,
      "outputs": []
    },
    {
      "cell_type": "markdown",
      "metadata": {
        "id": "xxWYyJTMbBdo",
        "colab_type": "text"
      },
      "source": [
        "What can you conclude from this graph?"
      ]
    },
    {
      "cell_type": "markdown",
      "metadata": {
        "id": "2LZOyjfwc9_D",
        "colab_type": "text"
      },
      "source": [
        "Now, if we want to analyse how graduates take loans and how non graduates take loan, a function of their income, we need to separate the loan values for both of them.\n",
        "How will we do that?\n",
        "Yeah !Boolean indexing!"
      ]
    },
    {
      "cell_type": "code",
      "metadata": {
        "id": "uH6KjvHf2Gs8",
        "colab_type": "code",
        "colab": {}
      },
      "source": [
        "#here, grad is the boolean variable which holds true for Graduate\n",
        "grad=data['Education']=='Graduate'    \n",
        "plt.scatter(income[grad],loan[grad],color='red')\n",
        "#here, non_grad is the boolean variable which holds true for Not Graduate\n",
        "non_grad=data['Education']=='Not Graduate'\n",
        "plt.scatter(income[non_grad],loan[non_grad],color='blue')\n",
        "#labelling the axis\n",
        "plt.xlabel('INCOME')\n",
        "plt.ylabel('LOAN')\n",
        "plt.show()          # and finally, show the plot"
      ],
      "execution_count": 0,
      "outputs": []
    },
    {
      "cell_type": "markdown",
      "metadata": {
        "id": "u3Kt6kLw5BKd",
        "colab_type": "text"
      },
      "source": [
        "Does scatter plot makes things look a bit confusing. \n",
        "\n",
        "\n",
        "Now lets do the same for linear plot.Replace the function scatter() by plot().\n",
        "\n",
        "\n"
      ]
    },
    {
      "cell_type": "code",
      "metadata": {
        "id": "UmBlhyIHfEi7",
        "colab_type": "code",
        "colab": {}
      },
      "source": [
        "#code to plot graduate loan and income\n",
        "plt.plot(income[grad].sort_values(by='ApplicantIncome'),loan[grad].sort_values(by='LoanAmount'),color='red')\n",
        "#Add x and y label\n",
        "plt.show()\n"
      ],
      "execution_count": 0,
      "outputs": []
    },
    {
      "cell_type": "markdown",
      "metadata": {
        "id": "47mhaDuZ8MPY",
        "colab_type": "text"
      },
      "source": [
        "Looks neat. Now in the same graph,** plot the linear plot of Non Graduate's Loan vs Income**. Dont forget to use legend to make your graph readable!\n",
        "\n",
        "> Indented block\n",
        "\n"
      ]
    },
    {
      "cell_type": "markdown",
      "metadata": {
        "id": "KrEAqLF_ArpU",
        "colab_type": "text"
      },
      "source": [
        "### Pie chart\n",
        "In high school we learned about pie charts, remember? Let's refresh it here with the following example taken from our dataset, Loan_data.csv.<br><br>\n",
        "So, as a final task let's now visualize the percentage of people having property area at urban, semiurban and rural areas.<br>\n",
        "For that you need to get the count of each. i.e, number of people having property at each of the three areas. So let's first find that out."
      ]
    },
    {
      "cell_type": "code",
      "metadata": {
        "id": "Shl9I4D3CgfL",
        "colab_type": "code",
        "colab": {}
      },
      "source": [
        "#Count of people having property at urban area\n",
        "u = "
      ],
      "execution_count": 0,
      "outputs": []
    },
    {
      "cell_type": "code",
      "metadata": {
        "id": "jzoZBW5YC-CG",
        "colab_type": "code",
        "colab": {}
      },
      "source": [
        "#Count of people having property at semiurban area\n",
        "s ="
      ],
      "execution_count": 0,
      "outputs": []
    },
    {
      "cell_type": "code",
      "metadata": {
        "id": "QAsHFwaDDD_B",
        "colab_type": "code",
        "colab": {}
      },
      "source": [
        "#Count of people having property at rural area\n",
        "r ="
      ],
      "execution_count": 0,
      "outputs": []
    },
    {
      "cell_type": "markdown",
      "metadata": {
        "id": "wDiAKxinDLwp",
        "colab_type": "text"
      },
      "source": [
        "Now that you have calculated the counts, let's create a list out of them. <br>\n",
        "Here we use the extend() funtion to append these three elements to our list."
      ]
    },
    {
      "cell_type": "code",
      "metadata": {
        "id": "2spKzvOODbPc",
        "colab_type": "code",
        "colab": {}
      },
      "source": [
        "area_count = []\n",
        "area_count.extend([u,s,r])\n",
        "area_count"
      ],
      "execution_count": 0,
      "outputs": []
    },
    {
      "cell_type": "markdown",
      "metadata": {
        "id": "a1Km9zfwEtY4",
        "colab_type": "text"
      },
      "source": [
        "Now create a list of values whose percentage you want to find,i.e,  'Urban' , 'Semiurban' and 'Rural'. They are the labels of our piechart."
      ]
    },
    {
      "cell_type": "code",
      "metadata": {
        "id": "hVzFe7WLEuWO",
        "colab_type": "code",
        "colab": {}
      },
      "source": [
        "area_labels = ['Urban', 'Semiurban', 'Rural']"
      ],
      "execution_count": 0,
      "outputs": []
    },
    {
      "cell_type": "markdown",
      "metadata": {
        "id": "fvpBa2BaEZhF",
        "colab_type": "text"
      },
      "source": [
        "Now we use the **.pie(data, labels= ,autopct=' ')** function to create the pie chart. As parameters we need to give the list of our counts, that is the main data first and then as labels our list of labels and autopct is the parameter that displays the percentage of each value, using python string formatting.<br>\n",
        "Also, use plt.title() funtion to make your pie chart more clear to people who use it.<br>\n",
        "So let's code our first piechart!"
      ]
    },
    {
      "cell_type": "code",
      "metadata": {
        "id": "mg7oNkW-G4uv",
        "colab_type": "code",
        "colab": {}
      },
      "source": [
        "plt.pie(area_count, labels=area_labels, autopct='%1.1f%%')\n",
        "plt.title('Property Area')\n",
        "plt.show()"
      ],
      "execution_count": 0,
      "outputs": []
    },
    {
      "cell_type": "markdown",
      "metadata": {
        "id": "Qj7rqhD2IUjB",
        "colab_type": "text"
      },
      "source": [
        "Simple and interesting, right?"
      ]
    },
    {
      "cell_type": "markdown",
      "metadata": {
        "id": "BENANEOJ9Ttq",
        "colab_type": "text"
      },
      "source": [
        "Continue experimenting and have fun plotting various graphs. There is a lot more to it. you can follow these links to learn more.\n",
        "\n",
        "\n",
        "https://www.geeksforgeeks.org/different-plotting-using-pandas-and-matplotlib/"
      ]
    },
    {
      "cell_type": "markdown",
      "metadata": {
        "id": "56vjLGRFOpYm",
        "colab_type": "text"
      },
      "source": [
        "Congratulations on completing this learning series with Pynote! Had a nice time with you all. Dont stop exploring. All the best for your venture in learning ML and Data Science. Let your curiosity never die out. Continue to learn more every day!\n",
        "\n",
        "\n",
        "Signing out...\n",
        "\n",
        "Pynote"
      ]
    }
  ]
}
