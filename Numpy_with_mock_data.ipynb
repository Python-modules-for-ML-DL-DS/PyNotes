{
  "nbformat": 4,
  "nbformat_minor": 0,
  "metadata": {
    "kernelspec": {
      "display_name": "Python 3",
      "language": "python",
      "name": "python3"
    },
    "language_info": {
      "codemirror_mode": {
        "name": "ipython",
        "version": 3
      },
      "file_extension": ".py",
      "mimetype": "text/x-python",
      "name": "python",
      "nbconvert_exporter": "python",
      "pygments_lexer": "ipython3",
      "version": "3.7.1"
    },
    "colab": {
      "name": "Numpy with mock data.ipynb",
      "provenance": [],
      "collapsed_sections": []
    }
  },
  "cells": [
    {
      "cell_type": "markdown",
      "metadata": {
        "id": "kgzl0pslz-2S",
        "colab_type": "text"
      },
      "source": [
        "#Welcome to Day 3!\n",
        "\n",
        "Numpy basics done! Great job. Now the lets look at a real world scenario. \n",
        "\n",
        "Previously you were creating arrays and working on it. But today, you will work on a real world dataset!   \n",
        " \n",
        "\n",
        "\n",
        "\n",
        " "
      ]
    },
    {
      "cell_type": "markdown",
      "metadata": {
        "id": "rESGzcHOZPbj",
        "colab_type": "text"
      },
      "source": [
        "After completing this notebook, you will be able to locate a particular data in a very large dataset, extract the required amount of data based on some condition, and once you have  the required data in your hands, you have already learnt the wide variety of operations that you can do on it!! \n",
        "\n",
        "Exciting isnt it? \n",
        "\n",
        "So without any delay, lets start!\n"
      ]
    },
    {
      "cell_type": "markdown",
      "metadata": {
        "id": "LhQYUiSFM4nu",
        "colab_type": "text"
      },
      "source": [
        "# Numpy with mock data \n",
        "Let's explore numpy with a mock data of a csv file.<br><br>\n",
        "!!  Make sure you have downloaded the **'Loan_data.csv'** file in your system. It will be useful for you to understand and solve some of the problems discussed below.  !!"
      ]
    },
    {
      "cell_type": "markdown",
      "metadata": {
        "id": "IsBWuescM4ny",
        "colab_type": "text"
      },
      "source": [
        "#### Working with numpy on a dataset\n",
        "What is a csv file?<br>\n",
        "A **Comma Separated Values (CSV)** file is a plain text file that contains a list of data. These files are often used for exchanging data between different applications. For example, databases often support CSV files.\n",
        "<br>\n",
        "These files may sometimes be called **Character Separated Values** or **Comma Delimited files**. They mostly use the comma character to separate (or delimit) data, but sometimes use other characters, like semicolons. The idea is that you can export complex data from one application to a CSV file, and then import the data in that CSV file into another application.\n",
        "<br><br>\n",
        "Example:<br>\n",
        "Name,Email,Phone Number,Address<br>\n",
        "Bob Smith,bob@example.com,123-456-7890,123 Fake Street<br>\n",
        "Mike Jones,mike@example.com,098-765-4321,321 Fake Avenue<br>\n",
        "<br>\n",
        "There are functions like **np.genfromtxt()** and **np.loadtxt()**, used to read any file using numpy. But it's a tedious task to do it in google colab. So if you are aquainted with jupyter notebook, you can try these functions there. Details about which is given at the end of this notebook.<br>\n",
        "Generally, the method used to read a file is using pandas and not numpy, which we will be learning in the next notebook. Hence we will be using just a mock data of the file **Loan_data.csv** stored in the variable, **data** to get a wider understanding of some concepts explained below.<br>\n",
        "Also, instead of using the whole data from the file, we will be only dealing with the **first 10 rows** of data **excluding the header(column_names)**.<br>\n",
        "<br>\n",
        "Given below is an abstract of data from the file, **Loan_data.csv**, which we will be using ahead, but without the header:<br>\n",
        "<table>\n",
        "    <thead>\n",
        "    <td>Loan_ID</td>\n",
        "    <td>Gender</td>\n",
        "    <td>Married</td>\n",
        "    <td>Dependents</td>\n",
        "    <td>Education</td>\n",
        "    <td>Self_Employed</td>\n",
        "    <td>ApplicantIncome</td>\n",
        "    <td>CoapplicantIncome</td>\n",
        "    <td>LoanAmount</td>\n",
        "    <td>Loan_Amount_Term</td>\n",
        "    <td>Credit_History</td>\n",
        "    <td>Property_Area</td>\n",
        "    <td>Loan_Status</td>\n",
        "    </thead>\n",
        "    <tr>\n",
        "        <td>LP001002</td>\n",
        "        <td>Male</td>\n",
        "        <td>No</td>\n",
        "        <td>0</td>\n",
        "        <td>Graduate</td>\n",
        "        <td>No</td>\n",
        "        <td>5849</td>\n",
        "        <td>0</td>\n",
        "        <td>76</td>\n",
        "        <td>360</td>\n",
        "        <td>1</td>\n",
        "        <td>Urban</td>\n",
        "        <td>Y</td>\n",
        "    </tr>\n",
        "    <tr>\n",
        "        <td>LP001003</td>\n",
        "        <td>Male</td>\n",
        "        <td>Yes</td>\n",
        "        <td>1</td>\n",
        "        <td>Graduate</td>\n",
        "        <td>No</td>\n",
        "        <td>4583</td>\n",
        "        <td>1508</td>\n",
        "        <td>128</td>\n",
        "        <td>360</td>\n",
        "        <td>1</td>\n",
        "        <td>Rural</td>\n",
        "        <td>N</td>\n",
        "    </tr>\n",
        "    <tr>\n",
        "        <td>LP001005</td>\n",
        "        <td>Male</td>\n",
        "        <td>Yes</td>\n",
        "        <td>0</td>\n",
        "        <td>Graduate</td>\n",
        "        <td>Yes</td>\n",
        "        <td>3000</td>\n",
        "        <td>0</td>\n",
        "        <td>66</td>\n",
        "        <td>360</td>\n",
        "        <td>1</td>\n",
        "        <td>Urban</td>\n",
        "        <td>Y</td>\n",
        "    </tr>\n",
        "    <tr>\n",
        "        <td>LP001006</td>\n",
        "        <td>Male</td>\n",
        "        <td>Yes</td>\n",
        "        <td>0</td>\n",
        "        <td>Not Graduate</td>\n",
        "        <td>No</td>\n",
        "        <td>2583</td>\n",
        "        <td>2358</td>\n",
        "        <td>120</td>\n",
        "        <td>360</td>\n",
        "        <td>1</td>\n",
        "        <td>Urban</td>\n",
        "        <td>Y</td>\n",
        "    </tr>\n",
        "    <tr>\n",
        "        <td>LP001008</td>\n",
        "        <td>Male</td>\n",
        "        <td>No</td>\n",
        "        <td>0</td>\n",
        "        <td>Graduate</td>\n",
        "        <td>No</td>\n",
        "        <td>6000</td>\n",
        "        <td>0</td>\n",
        "        <td>141</td>\n",
        "        <td>360</td>\n",
        "        <td>1</td>\n",
        "        <td>Urban</td>\n",
        "        <td>Y</td>\n",
        "    </tr>\n",
        "    <tr>\n",
        "        <td>LP001011</td>\n",
        "        <td>Male</td>\n",
        "        <td>Yes</td>\n",
        "        <td>2</td>\n",
        "        <td>Graduate</td>\n",
        "        <td>Yes</td>\n",
        "        <td>5417</td>\n",
        "        <td>4196</td>\n",
        "        <td>267</td>\n",
        "        <td>360</td>\n",
        "        <td>1</td>\n",
        "        <td>Urban</td>\n",
        "        <td>Y</td>\n",
        "    </tr>\n",
        "    <tr>\n",
        "        <td>LP001013</td>\n",
        "        <td>Male</td>\n",
        "        <td>Yes</td>\n",
        "        <td>0</td>\n",
        "        <td>Not Graduate</td>\n",
        "        <td>No</td>\n",
        "        <td>2333</td>\n",
        "        <td>1516</td>\n",
        "        <td>95</td>\n",
        "        <td>360</td>\n",
        "        <td>1</td>\n",
        "        <td>Urban</td>\n",
        "        <td>Y</td>\n",
        "    </tr>\n",
        "    <tr>\n",
        "        <td>LP001014</td>\n",
        "        <td>Male</td>\n",
        "        <td>Yes</td>\n",
        "        <td>3+</td>\n",
        "        <td>Graduate</td>\n",
        "        <td>No</td>\n",
        "        <td>3036</td>\n",
        "        <td>2504</td>\n",
        "        <td>158</td>\n",
        "        <td>360</td>\n",
        "        <td>0</td>\n",
        "        <td>Semiurban</td>\n",
        "        <td>N</td>\n",
        "    </tr>\n",
        "    <tr>\n",
        "        <td>LP001018</td>\n",
        "        <td>Male</td>\n",
        "        <td>Yes</td>\n",
        "        <td>2</td>\n",
        "        <td>Graduate</td>\n",
        "        <td>No</td>\n",
        "        <td>4006</td>\n",
        "        <td>1526</td>\n",
        "        <td>168</td>\n",
        "        <td>360</td>\n",
        "        <td>1</td>\n",
        "        <td>Urban</td>\n",
        "        <td>Y</td>\n",
        "    </tr>\n",
        "    <tr>\n",
        "        <td>LP001020</td>\n",
        "        <td>Male</td>\n",
        "        <td>Yes</td>\n",
        "        <td>1</td>\n",
        "        <td>Graduate</td>\n",
        "        <td>No</td>\n",
        "        <td>12841</td>\n",
        "        <td>10968</td>\n",
        "        <td>349</td>\n",
        "        <td>360</td>\n",
        "        <td>1</td>\n",
        "        <td>Semiurban</td>\n",
        "        <td>N</td>\n",
        "    </tr>\n",
        "</table>"
      ]
    },
    {
      "cell_type": "code",
      "metadata": {
        "id": "VXYUlRrTM4n1",
        "colab_type": "code",
        "colab": {}
      },
      "source": [
        "#Enter the code to import numpy below\n"
      ],
      "execution_count": 0,
      "outputs": []
    },
    {
      "cell_type": "code",
      "metadata": {
        "id": "jf6ahklQM4oE",
        "colab_type": "code",
        "colab": {}
      },
      "source": [
        "#Run this cell\n",
        "#data stores the first 10 rows of the csv file, 'Loan_data.csv'\n",
        "\n",
        "data = np.array([['LP001002', 'Male', 'No', '0', 'Graduate', 'No', 5849, 0.0, 76.0\n",
        "        360.0, 1.0, 'Urban', 'Y'],\n",
        "       ['LP001003', 'Male', 'Yes', '1', 'Graduate', 'No', 4583, 1508.0,\n",
        "        128.0, 360.0, 1.0, 'Rural', 'N'],\n",
        "       ['LP001005', 'Male', 'Yes', '0', 'Graduate', 'Yes', 3000, 0.0,\n",
        "        66.0, 360.0, 1.0, 'Urban', 'Y'],\n",
        "       ['LP001006', 'Male', 'Yes', '0', 'Not Graduate', 'No', 2583,\n",
        "        2358.0, 120.0, 360.0, 1.0, 'Urban', 'Y'],\n",
        "       ['LP001008', 'Male', 'No', '0', 'Graduate', 'No', 6000, 0.0,\n",
        "        141.0, 360.0, 1.0, 'Urban', 'Y'],\n",
        "       ['LP001011', 'Male', 'Yes', '2', 'Graduate', 'Yes', 5417, 4196.0,\n",
        "        267.0, 360.0, 1.0, 'Urban', 'Y'],\n",
        "       ['LP001013', 'Male', 'Yes', '0', 'Not Graduate', 'No', 2333,\n",
        "        1516.0, 95.0, 360.0, 1.0, 'Urban', 'Y'],\n",
        "       ['LP001014', 'Male', 'Yes', '3+', 'Graduate', 'No', 3036, 2504.0,\n",
        "        158.0, 360.0, 0.0, 'Semiurban', 'N'],\n",
        "       ['LP001018', 'Male', 'Yes', '2', 'Graduate', 'No', 4006, 1526.0,\n",
        "        168.0, 360.0, 1.0, 'Urban', 'Y'],\n",
        "       ['LP001020', 'Male', 'Yes', '1', 'Graduate', 'No', 12841, 10968.0,\n",
        "        349.0, 360.0, 1.0, 'Semiurban', 'N']])\n",
        "\n",
        "#If you have downloaded 'Loan_data.csv' file in your system, you can check it out too!"
      ],
      "execution_count": 0,
      "outputs": []
    },
    {
      "cell_type": "code",
      "metadata": {
        "id": "s2Mdz_ACM4oP",
        "colab_type": "code",
        "colab": {}
      },
      "source": [
        "#Print the data\n"
      ],
      "execution_count": 0,
      "outputs": []
    },
    {
      "cell_type": "markdown",
      "metadata": {
        "id": "zqSldN__M4oa",
        "colab_type": "text"
      },
      "source": [
        "Expected output:\n",
        "array([['LP001002', 'Male', 'No', '0', 'Graduate', 'No', '5849', '0.0',\n",
        "        '76', '360.0', '1.0', 'Urban', 'Y'],\n",
        "       ['LP001003', 'Male', 'Yes', '1', 'Graduate', 'No', '4583',\n",
        "        '1508.0', '128.0', '360.0', '1.0', 'Rural', 'N'],\n",
        "       ['LP001005', 'Male', 'Yes', '0', 'Graduate', 'Yes', '3000', '0.0',\n",
        "        '66.0', '360.0', '1.0', 'Urban', 'Y'],\n",
        "       ['LP001006', 'Male', 'Yes', '0', 'Not Graduate', 'No', '2583',\n",
        "        '2358.0', '120.0', '360.0', '1.0', 'Urban', 'Y'],\n",
        "       ['LP001008', 'Male', 'No', '0', 'Graduate', 'No', '6000', '0.0',\n",
        "        '141.0', '360.0', '1.0', 'Urban', 'Y'],\n",
        "       ['LP001011', 'Male', 'Yes', '2', 'Graduate', 'Yes', '5417',\n",
        "        '4196.0', '267.0', '360.0', '1.0', 'Urban', 'Y'],\n",
        "       ['LP001013', 'Male', 'Yes', '0', 'Not Graduate', 'No', '2333',\n",
        "        '1516.0', '95.0', '360.0', '1.0', 'Urban', 'Y'],\n",
        "       ['LP001014', 'Male', 'Yes', '3+', 'Graduate', 'No', '3036',\n",
        "        '2504.0', '158.0', '360.0', '0.0', 'Semiurban', 'N'],\n",
        "       ['LP001018', 'Male', 'Yes', '2', 'Graduate', 'No', '4006',\n",
        "        '1526.0', '168.0', '360.0', '1.0', 'Urban', 'Y'],\n",
        "       ['LP001020', 'Male', 'Yes', '1', 'Graduate', 'No', '12841',\n",
        "        '10968.0', '349.0', '360.0', '1.0', 'Semiurban', 'N']],\n",
        "      dtype='<U12')"
      ]
    },
    {
      "cell_type": "code",
      "metadata": {
        "id": "9u_w7KwIM4oc",
        "colab_type": "code",
        "colab": {}
      },
      "source": [
        "#Print the shape of 'data'\n"
      ],
      "execution_count": 0,
      "outputs": []
    },
    {
      "cell_type": "markdown",
      "metadata": {
        "id": "tIANLIw1M4on",
        "colab_type": "text"
      },
      "source": [
        "#### Selecting a single row from an ndarray\n",
        "Syntax: **data[ row_index ]**<br>\n",
        "Example: second_row = data[1]<br><br>\n",
        "1.Select the **5th** row of data<br><br>\n",
        "Note: **Zero indexing** is used here."
      ]
    },
    {
      "cell_type": "code",
      "metadata": {
        "id": "zSpnVU83M4op",
        "colab_type": "code",
        "colab": {}
      },
      "source": [
        "#Enter your code below\n",
        "\n",
        "#Expected output:\n",
        "#array(['LP001008', 'Male', 'No', '0', 'Graduate', 'No', '6000', '0.0', '141.0', '360.0', '1.0', 'Urban', 'Y'], dtype='<U12')"
      ],
      "execution_count": 0,
      "outputs": []
    },
    {
      "cell_type": "markdown",
      "metadata": {
        "id": "rrLnB0-7M4oz",
        "colab_type": "text"
      },
      "source": [
        "#### Selecting multiple rows from an ndarray\n",
        "Syntax: **data[ start_index : (last+1)_index ]** (selects rows in the interval of index, [start,last],i.e excluding the row with index (last+1).<br>\n",
        "Example: all_but_first_row = data[1:]<br>00\n",
        "As in the above example, if last index is not specified, then the selction takes place till the end of the data.Similarly, if the start index is not specified, selection starts from the beginning.\n",
        "<br><br>\n",
        "2.Select **5th row to 9th row** of data.(including 100th and 110th row)"
      ]
    },
    {
      "cell_type": "code",
      "metadata": {
        "id": "RiAcD3krM4o0",
        "colab_type": "code",
        "colab": {}
      },
      "source": [
        "#Enter your code below\n"
      ],
      "execution_count": 0,
      "outputs": []
    },
    {
      "cell_type": "markdown",
      "metadata": {
        "id": "Zun60mRBM4o8",
        "colab_type": "text"
      },
      "source": [
        "Expected output: array([['LP001008', 'Male', 'No', '0', 'Graduate', 'No', '6000', '0.0',\n",
        "        '141.0', '360.0', '1.0', 'Urban', 'Y'],\n",
        "       ['LP001011', 'Male', 'Yes', '2', 'Graduate', 'Yes', '5417',\n",
        "        '4196.0', '267.0', '360.0', '1.0', 'Urban', 'Y'],\n",
        "       ['LP001013', 'Male', 'Yes', '0', 'Not Graduate', 'No', '2333',\n",
        "        '1516.0', '95.0', '360.0', '1.0', 'Urban', 'Y'],\n",
        "       ['LP001014', 'Male', 'Yes', '3+', 'Graduate', 'No', '3036',\n",
        "        '2504.0', '158.0', '360.0', '0.0', 'Semiurban', 'N'],\n",
        "       ['LP001018', 'Male', 'Yes', '2', 'Graduate', 'No', '4006',\n",
        "        '1526.0', '168.0', '360.0', '1.0', 'Urban', 'Y']], dtype='<U12')"
      ]
    },
    {
      "cell_type": "markdown",
      "metadata": {
        "id": "y2cBee3qM4o9",
        "colab_type": "text"
      },
      "source": [
        "#### Selecting a specific item from an ndarray\n",
        "Syntax: **data[ row_index, column_index ]**<br>\n",
        "Example: fifth_row_second_column = data[4,1]<br><br>\n",
        "3.Print the value at **7th row and 3rd column** in the data."
      ]
    },
    {
      "cell_type": "code",
      "metadata": {
        "id": "GqSOsZ88M4o-",
        "colab_type": "code",
        "colab": {}
      },
      "source": [
        "#Enter your code below\n",
        "\n",
        "#Expected output: 'Yes'"
      ],
      "execution_count": 0,
      "outputs": []
    },
    {
      "cell_type": "markdown",
      "metadata": {
        "id": "Gl3d_zYgM4pD",
        "colab_type": "text"
      },
      "source": [
        "#### Selecting a single column\n",
        "Syntax: **data[ : , column_index ]**<br>\n",
        "Example: second_column = taxi[:,1]<br><br>\n",
        "4.Print the **Loan_Status**(13th column) of all the applicants from the data."
      ]
    },
    {
      "cell_type": "code",
      "metadata": {
        "id": "7ZufrMYBM4pD",
        "colab_type": "code",
        "colab": {}
      },
      "source": [
        "#Enter your code below\n",
        "\n",
        "#Expected output: array(['Y', 'N', 'Y', 'Y', 'Y', 'Y', 'Y', 'N', 'Y', 'N'], dtype='<U12')"
      ],
      "execution_count": 0,
      "outputs": []
    },
    {
      "cell_type": "markdown",
      "metadata": {
        "id": "u8gVdqWpM4pH",
        "colab_type": "text"
      },
      "source": [
        "#### Selecting multiple columns\n",
        "There are two methods that you can choose according to your need.\n",
        "<ul>\n",
        "    <li><b>Continuous columns</b><br>\n",
        "        Syntax: <b>data[ : , start: last+1 ]</b> <br>\n",
        "        Example: second_third_columns = data[:,1:3]</li><br>\n",
        "    <li><b>Specific columns</b>Syntax: <b>cols = [_column_indices_]</b> <br>\n",
        "        <b>data[ : , cols ]</b><br>\n",
        "        Example: cols = [1,3,5]<br>\n",
        "        second_fourth_sixth_columns = data[:, cols]</li>\n",
        "</ul><br>\n",
        "5.Print the <b>Loan_ID, ApplicantIncome, LoanAmount and Loan_Status</b> of all the applicants from the data."
      ]
    },
    {
      "cell_type": "code",
      "metadata": {
        "id": "L_MmTFSyM4pI",
        "colab_type": "code",
        "colab": {}
      },
      "source": [
        "#Enter your code below\n"
      ],
      "execution_count": 0,
      "outputs": []
    },
    {
      "cell_type": "markdown",
      "metadata": {
        "id": "g0WUINY0M4pM",
        "colab_type": "text"
      },
      "source": [
        "Expected output: <br>\n",
        "array([['LP001002', '5849', '76', 'Y'],<br>\n",
        "       ['LP001003', '4583', '128.0', 'N'],<br>\n",
        "       ['LP001005', '3000', '66.0', 'Y'],<br>\n",
        "       ['LP001006', '2583', '120.0', 'Y'],<br>\n",
        "       ['LP001008', '6000', '141.0', 'Y'],<br>\n",
        "       ['LP001011', '5417', '267.0', 'Y'],<br>\n",
        "       ['LP001013', '2333', '95.0', 'Y'],<br>\n",
        "       ['LP001014', '3036', '158.0', 'N'],<br>\n",
        "       ['LP001018', '4006', '168.0', 'Y'],<br>\n",
        "       ['LP001020', '12841', '349.0', 'N']], dtype='<U12')"
      ]
    },
    {
      "cell_type": "markdown",
      "metadata": {
        "id": "d0zEdg3JM4pN",
        "colab_type": "text"
      },
      "source": [
        "#### Selecting a 2D slice\n",
        "Syntax: **data[ row_indices, column_indices ]**<br>\n",
        "Example: twod_slice = data[1:4, :3]<br><br>\n",
        "6.Print **Loan_ID and Credit_History of first 5 applicants** in the data."
      ]
    },
    {
      "cell_type": "code",
      "metadata": {
        "id": "TjxJiu0RM4pO",
        "colab_type": "code",
        "colab": {}
      },
      "source": [
        "#Enter your code here\n"
      ],
      "execution_count": 0,
      "outputs": []
    },
    {
      "cell_type": "markdown",
      "metadata": {
        "id": "qDbg9PA_M4pS",
        "colab_type": "text"
      },
      "source": [
        "Expected output:<br> array([['LP001002', '1.0'],<br>\n",
        "       ['LP001003', '1.0'],<br>\n",
        "       ['LP001005', '1.0'],<br>\n",
        "       ['LP001006', '1.0'],<br>\n",
        "       ['LP001008', '1.0']], dtype='<U12')"
      ]
    },
    {
      "cell_type": "markdown",
      "metadata": {
        "id": "0VS0p5ZpM4pS",
        "colab_type": "text"
      },
      "source": [
        "### Boolean Indexing\n",
        "A **boolean array**, as the name suggests, is an array of boolean values. Boolean arrays are sometimes called boolean vectors or boolean masks.<br>\n",
        "You may recall that the boolean (or bool) type is a built-in Python data type that can be one of two unique values:\n",
        "<ul><li>True</li><li>False</li></ul>\n",
        "Let's consider an example given below:"
      ]
    },
    {
      "cell_type": "code",
      "metadata": {
        "id": "fj3cS2tqM4pT",
        "colab_type": "code",
        "outputId": "eebf1741-b563-4f1b-b226-c8a5606eaee6",
        "colab": {}
      },
      "source": [
        "#Run this cell\n",
        "a = np.array([1, 2, 3, 4, 5])\n",
        "a_bool = a<3\n",
        "print(a_bool)"
      ],
      "execution_count": 0,
      "outputs": [
        {
          "output_type": "stream",
          "text": [
            "[ True  True False False False]\n"
          ],
          "name": "stdout"
        }
      ]
    },
    {
      "cell_type": "markdown",
      "metadata": {
        "id": "EF_xLqHHM4pY",
        "colab_type": "text"
      },
      "source": [
        "Here you can see that **< 3** comparison is carried out with all the elements of a and thier result(T/F) is stored in the boolean array, a_bool.This is a **vectorised boolean operation**.<br><br>\n",
        "7.For the given ndarray <b>b</b> below, evaluate whether elements in array, b are equal to **'red'**.Assign the result to **b_bool** and print the resultant boolean array.<br>\n",
        "b = np.array([\"blue\", \"blue\", \"red\", \"blue\"])"
      ]
    },
    {
      "cell_type": "code",
      "metadata": {
        "id": "lTkb2hopM4pY",
        "colab_type": "code",
        "colab": {}
      },
      "source": [
        "#Enter your code below\n",
        "b = np.array([\"blue\", \"blue\", \"red\", \"blue\"])\n",
        "\n",
        "\n",
        "#Expected output: array([False, False,  True, False]) "
      ],
      "execution_count": 0,
      "outputs": []
    },
    {
      "cell_type": "markdown",
      "metadata": {
        "id": "g7yAQy0aM4pc",
        "colab_type": "text"
      },
      "source": [
        "#### Boolean filtering\n",
        "Now, we'll learn how to index (or select) using boolean arrays, known as **boolean indexing**.\n",
        "For example, we want to **select data of only graduated applicants** from our file.What do we do?<br>\n",
        "Follow the steps of solution given below and try the next question on your own."
      ]
    },
    {
      "cell_type": "code",
      "metadata": {
        "id": "xY0qH7jgM4pc",
        "colab_type": "code",
        "colab": {}
      },
      "source": [
        "#Run this cell\n",
        "#Select the Education column from the data and assign this ndarray to 'e' as given below:\n",
        "e = data[:,4]\n",
        "print(e)"
      ],
      "execution_count": 0,
      "outputs": []
    },
    {
      "cell_type": "code",
      "metadata": {
        "id": "K-PkyYo5M4pf",
        "colab_type": "code",
        "colab": {}
      },
      "source": [
        "#Run this cell\n",
        "#Evaluate whether elements of g equals to 'Graduate' and assign the result to e_bool as given below:\n",
        "e_bool = e=='Graduate'\n",
        "print(e_bool)"
      ],
      "execution_count": 0,
      "outputs": []
    },
    {
      "cell_type": "code",
      "metadata": {
        "id": "jLulnu2oM4pk",
        "colab_type": "code",
        "colab": {}
      },
      "source": [
        "#Run this cell\n",
        "#Use e_bool to index 'data' and assign the data selected in a variable graduate_data\n",
        "graduate_data = data[e_bool]\n",
        "print(graduate_data)"
      ],
      "execution_count": 0,
      "outputs": []
    },
    {
      "cell_type": "markdown",
      "metadata": {
        "id": "EjyOTMClM4pp",
        "colab_type": "text"
      },
      "source": [
        "I hope you have understood how we **use the boolean array to select /index /filter specific data** according to our need.Here we easily filtered out the data of graduated applicants from the whole set.<br>\n",
        "Now try the problem below to get a better knack of the concept.<br><br>\n",
        "8.Filter out the data of applicants whose **Loan_status = 'Y'** and print the data."
      ]
    },
    {
      "cell_type": "code",
      "metadata": {
        "id": "Ma-wFb-sM4pq",
        "colab_type": "code",
        "colab": {}
      },
      "source": [
        "#Enter your code here below.\n",
        "#Select the Loan_Status column from the data and assign this ndarray to 'l' \n",
        "l = "
      ],
      "execution_count": 0,
      "outputs": []
    },
    {
      "cell_type": "code",
      "metadata": {
        "id": "cVZzHaAsM4pu",
        "colab_type": "code",
        "colab": {}
      },
      "source": [
        "#Evaluate whether elements of l equals to 'Y' and assign the result to l_bool\n",
        "l_bool = "
      ],
      "execution_count": 0,
      "outputs": []
    },
    {
      "cell_type": "code",
      "metadata": {
        "id": "E29FzGUeM4pw",
        "colab_type": "code",
        "colab": {}
      },
      "source": [
        "#Use l_bool to index 'data' and assign the data selected in a variable actice_loans and print it.\n",
        "active_loans = \n",
        "print(active_loans)"
      ],
      "execution_count": 0,
      "outputs": []
    },
    {
      "cell_type": "markdown",
      "metadata": {
        "id": "JgYuKSZeM4pz",
        "colab_type": "text"
      },
      "source": [
        "Expected output: <br>[['LP001002' 'Male' 'No' '0' 'Graduate' 'No' '5849' '0.0' '76' '360.0'\n",
        "  '1.0' 'Urban' 'Y']<br>\n",
        " ['LP001005' 'Male' 'Yes' '0' 'Graduate' 'Yes' '3000' '0.0' '66.0'\n",
        "  '360.0' '1.0' 'Urban' 'Y']<br>\n",
        " ['LP001006' 'Male' 'Yes' '0' 'Not Graduate' 'No' '2583' '2358.0' '120.0'\n",
        "  '360.0' '1.0' 'Urban' 'Y']<br>\n",
        " ['LP001008' 'Male' 'No' '0' 'Graduate' 'No' '6000' '0.0' '141.0' '360.0'\n",
        "  '1.0' 'Urban' 'Y']<br>\n",
        " ['LP001011' 'Male' 'Yes' '2' 'Graduate' 'Yes' '5417' '4196.0' '267.0'\n",
        "  '360.0' '1.0' 'Urban' 'Y']<br>\n",
        " ['LP001013' 'Male' 'Yes' '0' 'Not Graduate' 'No' '2333' '1516.0' '95.0'\n",
        "  '360.0' '1.0' 'Urban' 'Y']<br>\n",
        " ['LP001018' 'Male' 'Yes' '2' 'Graduate' 'No' '4006' '1526.0' '168.0'\n",
        "  '360.0' '1.0' 'Urban' 'Y']]"
      ]
    },
    {
      "cell_type": "markdown",
      "metadata": {
        "id": "SQypTZvTM4p0",
        "colab_type": "text"
      },
      "source": [
        "<br>In case anyone is willing to try **np.genfromtxt** function in **Jupyter Notebook**, you can follow the following format:<br> \n",
        "We will use the following parameters here:<br>\n",
        "<ul>\n",
        "    <li><b>delimiter</b> - It specifies the string used to separate values. By default, any consecutive whitespaces act as delimiter.</li>\n",
        "    <li><b>dtype</b> - It specifies the data type of the resulting array. If value='None-, the dtypes will be determined by the contents of each column, individually.</li>\n",
        "    <li><b>encoding</b> - It is used to decode the input file.</li>\n",
        "</ul>\n",
        "Therefore,the syntax is:<br>\n",
        "<b>variable_name = np.genfromtxt(file_name.csv, delimiter = ',', dtype = None, encoding = None)</b><br>\n",
        "You can practice reading **'Loan_data.csv'** file.<br><br>\n",
        "Note:There are more parameters other than this for the function.But we use these parameters in accordance to our file to get it in the required format."
      ]
    },
    {
      "cell_type": "markdown",
      "metadata": {
        "id": "t6JkjoZwM4p0",
        "colab_type": "text"
      },
      "source": [
        "So, this is it for the Numpy library.There is so much more to it, so keep exploring guys!<br><br>\n",
        "\n",
        "Hey! We got just two more days left with you, my friend! Had a nice time with you! Great Work. Also, even more exciting topics are on their way!! Yeah!\n",
        "\n",
        "See you in the next notebook!\n",
        " \n",
        " :)\n",
        "\n",
        "\n",
        "\n",
        "\n",
        "**Happy learning!**"
      ]
    }
  ]
}