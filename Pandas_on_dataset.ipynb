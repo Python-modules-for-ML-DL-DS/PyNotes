{
  "nbformat": 4,
  "nbformat_minor": 0,
  "metadata": {
    "kernelspec": {
      "display_name": "Python 3",
      "language": "python",
      "name": "python3"
    },
    "language_info": {
      "codemirror_mode": {
        "name": "ipython",
        "version": 3
      },
      "file_extension": ".py",
      "mimetype": "text/x-python",
      "name": "python",
      "nbconvert_exporter": "python",
      "pygments_lexer": "ipython3",
      "version": "3.7.1"
    },
    "colab": {
      "name": "Pandas on dataset.ipynb",
      "provenance": [],
      "collapsed_sections": [
        "4FnBjKlDfyyL",
        "l5tqbavWfyyj",
        "DTjy94n9fyzl",
        "t3_F3DFYfyzt"
      ]
    }
  },
  "cells": [
    {
      "cell_type": "markdown",
      "metadata": {
        "id": "PsEC29a2fyxB",
        "colab_type": "text"
      },
      "source": [
        "### Congratulations!!\n",
        "You have completed learning the first library, Numpy with us and now it's time to move a step ahead and start learning a new library but applying the same concepts we have learned. I ensure you that this is gonna be as interesting as the library's name! Lol!<br>\n",
        "So keep up the spirit and start!"
      ]
    },
    {
      "cell_type": "markdown",
      "metadata": {
        "id": "HZDpJ0rNfyxD",
        "colab_type": "text"
      },
      "source": [
        "# Pandas\n",
        "Let's begin with our second library pandas but before that, what is pandas used for? <br>Pandas is a powerful python data analysis toolkit for reading, filtering, visualizing and exporting data! You will get a better idea on this, after going through the notebook, so let's not waste time and begin."
      ]
    },
    {
      "cell_type": "markdown",
      "metadata": {
        "id": "jLTAOwQlfyxF",
        "colab_type": "text"
      },
      "source": [
        "1.Import the Pandas library using the syntax given below:<br>\n",
        "**import pandas as pd**"
      ]
    },
    {
      "cell_type": "code",
      "metadata": {
        "id": "StAiW7_qfyxG",
        "colab_type": "code",
        "colab": {}
      },
      "source": [
        "#Enter your code below\n"
      ],
      "execution_count": 0,
      "outputs": []
    },
    {
      "cell_type": "markdown",
      "metadata": {
        "id": "RxKeuxTEfyxP",
        "colab_type": "text"
      },
      "source": [
        "Now, we will read our old dataset and learn with it.So, let's see how we do this in pandas.<br>"
      ]
    },
    {
      "cell_type": "markdown",
      "metadata": {
        "id": "vqpqS4wNfyxQ",
        "colab_type": "text"
      },
      "source": [
        "#### Reading files using pandas\n",
        "From JSON files to SQL files, pandas allows us to read many types of files in a very simple way.The following table gives a pretty good idea on reading files of any type using pandas:\n",
        "<table>\n",
        "    <thead>\n",
        "    <td>Format type</td>\n",
        "    <td>Data description</td>\n",
        "    <td>Reader</td>\n",
        "    </thead>\n",
        "    <tr>\n",
        "    <td>text</td>\n",
        "    <td>CSV</td>\n",
        "    <td>read_csv</td>\n",
        "    </tr>\n",
        "    <tr>\n",
        "    <td>text</td>\n",
        "    <td>JSON</td>\n",
        "    <td>read_json</td>\n",
        "    </tr>\n",
        "    <tr>\n",
        "    <td>text</td>\n",
        "    <td>HTML</td>\n",
        "    <td>read_html</td>\n",
        "    </tr>\n",
        "    <tr>\n",
        "    <td>text</td>\n",
        "    <td>local clipboard</td>\n",
        "    <td>read_clipboard</td>\n",
        "    </tr>\n",
        "    <tr>\n",
        "    <td>binary</td>\n",
        "    <td>MS Excel</td>\n",
        "    <td>read_excel</td>\n",
        "    </tr>\n",
        "    <tr>\n",
        "    <td>binary</td>\n",
        "    <td>HDF5 format</td>\n",
        "    <td>read_hdf</td>\n",
        "    </tr>\n",
        "    <tr>\n",
        "    <td>binary</td>\n",
        "    <td>Feather format</td>\n",
        "    <td>read_feather</td>\n",
        "    </tr>\n",
        "    <tr>\n",
        "    <td>binary</td>\n",
        "    <td>Msppack</td>\n",
        "    <td>read_msgpack</td>\n",
        "    </tr>\n",
        "    <tr>\n",
        "    <td>binary</td>\n",
        "    <td>Stata</td>\n",
        "    <td>read_stata</td>\n",
        "    </tr>\n",
        "    <tr>\n",
        "    <td>binary</td>\n",
        "    <td>SAS</td>\n",
        "    <td>read_sas</td>\n",
        "    </tr>\n",
        "    <tr>\n",
        "    <td>binary</td>\n",
        "    <td>Python Pickle format</td>\n",
        "    <td>read_pickle</td>\n",
        "    </tr>\n",
        "    <tr>\n",
        "    <td>SQL</td>\n",
        "    <td>SQL</td>\n",
        "    <td>read_sql</td>\n",
        "    </tr>\n",
        "    <tr>\n",
        "    <td>SQL</td>\n",
        "    <td>Google Big Query</td>\n",
        "    <td>read_gbq</td>\n",
        "    </tr>\n",
        "</table>"
      ]
    },
    {
      "cell_type": "markdown",
      "metadata": {
        "id": "Wel06Z-KfyxS",
        "colab_type": "text"
      },
      "source": [
        "The syntax for reading a file using pandas is:<br>\n",
        "**data = pd._reader_('file_name')**<br><br>\n",
        "But, while reading any file in google colab, there are some steps to follow, which are given below.<br>\n",
        "Also, note that there are two methods to do so, one is the method given below and the other is via google drive. We will be discussing only this method for now!"
      ]
    },
    {
      "cell_type": "markdown",
      "metadata": {
        "id": "CD_UfE7WfyxT",
        "colab_type": "text"
      },
      "source": [
        "In this step, you are going to upload your csv file, **'Loan_data.csv'** from your system.<br>\n",
        "Note that you might have to wait for a few seconds, for the file to upload. You can continue further after you see **100% done**."
      ]
    },
    {
      "cell_type": "code",
      "metadata": {
        "id": "GXBgA5shfyxV",
        "colab_type": "code",
        "outputId": "a12e04c1-0c84-44a6-94bf-877373ce7e5e",
        "colab": {
          "resources": {
            "http://localhost:8080/nbextensions/google.colab/files.js": {
              "data": "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",
              "ok": true,
              "headers": [
                [
                  "content-type",
                  "application/javascript"
                ]
              ],
              "status": 200,
              "status_text": ""
            }
          },
          "base_uri": "https://localhost:8080/",
          "height": 41
        }
      },
      "source": [
        "#Run this cell\n",
        "#This is the step where you upload your file from the local file system.\n",
        "\n",
        "import io\n",
        "from google.colab import files\n",
        "uploaded = files.upload()"
      ],
      "execution_count": 0,
      "outputs": [
        {
          "output_type": "display_data",
          "data": {
            "text/html": [
              "\n",
              "     <input type=\"file\" id=\"files-407cbfa8-4403-4685-9559-74a6072af764\" name=\"files[]\" multiple disabled />\n",
              "     <output id=\"result-407cbfa8-4403-4685-9559-74a6072af764\">\n",
              "      Upload widget is only available when the cell has been executed in the\n",
              "      current browser session. Please rerun this cell to enable.\n",
              "      </output>\n",
              "      <script src=\"/nbextensions/google.colab/files.js\"></script> "
            ],
            "text/plain": [
              "<IPython.core.display.HTML object>"
            ]
          },
          "metadata": {
            "tags": []
          }
        }
      ]
    },
    {
      "cell_type": "markdown",
      "metadata": {
        "id": "ygSrBLOdfyxd",
        "colab_type": "text"
      },
      "source": [
        "Follow this link to know more about [io module](https://www.journaldev.com/19178/python-io-bytesio-stringio) of python."
      ]
    },
    {
      "cell_type": "code",
      "metadata": {
        "id": "wpM5xuSIfyxf",
        "colab_type": "code",
        "colab": {}
      },
      "source": [
        "#This is an optional step where you print file name along with length of the data of file in bytes\n",
        "\n",
        "for fn in uploaded.keys():\n",
        "  print('User uploaded file \"{name}\" with length {length} bytes'.format(\n",
        "      name=fn, length=len(uploaded[fn])))\n",
        "\n",
        "#If you are on the right path your output will be something like this:\n",
        "#User uploaded file \"Loan_data.csv\" with length 38015 bytes"
      ],
      "execution_count": 0,
      "outputs": []
    },
    {
      "cell_type": "code",
      "metadata": {
        "id": "B4XGrmbVfyxm",
        "colab_type": "code",
        "colab": {}
      },
      "source": [
        "#Run this cell\n",
        "#Printing 'uploaded'\n",
        "\n",
        "uploaded"
      ],
      "execution_count": 0,
      "outputs": []
    },
    {
      "cell_type": "markdown",
      "metadata": {
        "id": "BLAqNcp3fyxs",
        "colab_type": "text"
      },
      "source": [
        "You can see that, data is retrieved in the form of a **dictionary**, where **file name** is the **key**, and the **complete data** as the **value** of the key.<br><br>\n",
        "Now, in the next step we will be reading our file, **Loan_data.csv** using the **pd.read_csv** reader of pandas, in the following manner:"
      ]
    },
    {
      "cell_type": "code",
      "metadata": {
        "id": "DNwvQGbmfyxt",
        "colab_type": "code",
        "colab": {}
      },
      "source": [
        "#Run this cell\n",
        "data = pd.read_csv(io.StringIO(uploaded['Loan_data.csv'].decode('utf-8')))\n",
        "data"
      ],
      "execution_count": 0,
      "outputs": []
    },
    {
      "cell_type": "markdown",
      "metadata": {
        "id": "au9wNS6Ufyx1",
        "colab_type": "text"
      },
      "source": [
        "Doesn't this form of reading data look much better and easier? Well, what you see above is called a **dataframe** in pandas, which we will learn in the coming sections."
      ]
    },
    {
      "cell_type": "markdown",
      "metadata": {
        "id": "jjWAsGnLfyx2",
        "colab_type": "text"
      },
      "source": [
        "#### Dimension\n",
        "**.shape** attribute returns a tuple representing the dimensions of each axis of the object.<br>\n",
        "Syntax: \n",
        "<ul>\n",
        "    <li><b>data.shape</b> - returns <b>( no_of_rows ,no_of_columns )</b> </li>\n",
        "    <li><b>data.shape[0]</b> - returns <b>Number of rows</b></li>\n",
        "    <li><b>data.shape[1]</b> - returns <b>Number of columns</b></li>\n",
        "</ul>\n",
        "<br>\n",
        "2.Find the <b>shape, number of rows and number of columns</b> of the data"
      ]
    },
    {
      "cell_type": "code",
      "metadata": {
        "id": "8tXTZboIfyx4",
        "colab_type": "code",
        "colab": {}
      },
      "source": [
        "#Enter your code here\n"
      ],
      "execution_count": 0,
      "outputs": []
    },
    {
      "cell_type": "code",
      "metadata": {
        "id": "CKOuvetWfyx-",
        "colab_type": "code",
        "colab": {}
      },
      "source": [
        "#Enter your code here\n"
      ],
      "execution_count": 0,
      "outputs": []
    },
    {
      "cell_type": "code",
      "metadata": {
        "id": "jMwMrsJdfyyF",
        "colab_type": "code",
        "colab": {}
      },
      "source": [
        "#Enter your code here\n"
      ],
      "execution_count": 0,
      "outputs": []
    },
    {
      "cell_type": "markdown",
      "metadata": {
        "id": "4FnBjKlDfyyL",
        "colab_type": "text"
      },
      "source": [
        "#### Data Structures in Pandas\n",
        "We have two important data structures offered by pandas as given below:\n",
        "<ol>\n",
        "    <li><b>Series</b></li>\n",
        "    <li><b>Dataframe</b></li>\n",
        "</ol>\n",
        "So let's have a brief introduction to it!"
      ]
    },
    {
      "cell_type": "markdown",
      "metadata": {
        "id": "0B4pPvEyfyyM",
        "colab_type": "text"
      },
      "source": [
        "### 1.Series\n",
        "Pandas Series is a **one-dimensional labeled array** capable of holding data of any type (integer, string, float, python objects, etc.). The axis labels are collectively called **index**. Pandas Series is nothing but a **column in an excel sheet**.<br><br>\n",
        "Syntax: **series_object = pd.Series([_elements_])**<br><br>\n",
        "Let's see an example below:"
      ]
    },
    {
      "cell_type": "code",
      "metadata": {
        "id": "9o-0HQD6fyyO",
        "colab_type": "code",
        "colab": {}
      },
      "source": [
        "#Run this cell\n",
        "series_obj1 = pd.Series([1,2,3,'hi'])\n",
        "series_obj1"
      ],
      "execution_count": 0,
      "outputs": []
    },
    {
      "cell_type": "markdown",
      "metadata": {
        "id": "rwAT0FVbfyyU",
        "colab_type": "text"
      },
      "source": [
        "What you see above is a Series object with default indices. Now in our **data**, i.e, our csv file we will read a column of it below, which can be called a series. Let's have a look on how we do it.!<br>\n",
        "### Selecting a single column\n",
        "There are two methods to do so.They are:\n",
        "<ul>\n",
        "    <li>Explicit Syntax: <b>col = data.loc[ : , 'column_name']</b><br></li>\n",
        "    <li>Shorthand convention: <b>col = data['column_name']</b><br></li>\n",
        "</ul>\n",
        "Here <b>col</b> is a <b>Series object</b>.<br><br>\n",
        "Let's have a look at at the example below:"
      ]
    },
    {
      "cell_type": "code",
      "metadata": {
        "id": "M5CalxRefyyV",
        "colab_type": "code",
        "colab": {}
      },
      "source": [
        "#Run this cell\n",
        "Marital_status = data['Married']\n",
        "Marital_status"
      ],
      "execution_count": 0,
      "outputs": []
    },
    {
      "cell_type": "markdown",
      "metadata": {
        "id": "wPQANintfyya",
        "colab_type": "text"
      },
      "source": [
        "So, let's try it on our own now by completing the task below.<br>\n",
        "3.Select the **Education** column from **data**."
      ]
    },
    {
      "cell_type": "code",
      "metadata": {
        "id": "V3hGKd-3fyyb",
        "colab_type": "code",
        "colab": {}
      },
      "source": [
        "#Enter you code here\n"
      ],
      "execution_count": 0,
      "outputs": []
    },
    {
      "cell_type": "markdown",
      "metadata": {
        "id": "AUyMfwIrfyyh",
        "colab_type": "text"
      },
      "source": [
        "Expected Output:<br>\n",
        "0          Graduate<br>\n",
        "1          Graduate<br>\n",
        "2          Graduate<br>\n",
        "3      Not Graduate<br>\n",
        "4          Graduate<br>\n",
        "5          Graduate<br>\n",
        "6      Not Graduate<br>\n",
        "7          Graduate<br>\n",
        "8          Graduate<br>\n",
        "9          Graduate<br>\n",
        "10         Graduate<br>\n",
        "11         Graduate<br>\n",
        "12         Graduate<br>\n",
        "13         Graduate<br>\n",
        "14         Graduate<br>\n",
        "15         Graduate<br>\n",
        "16     Not Graduate<br>\n",
        "17         Graduate<br>\n",
        "18     Not Graduate<br>\n",
        "19         Graduate<br>\n",
        "20     Not Graduate<br>\n",
        "21         Graduate<br>\n",
        "22     Not Graduate<br>\n",
        "23     Not Graduate<br>\n",
        "24         Graduate<br>\n",
        "25         Graduate<br>\n",
        "26         Graduate<br>\n",
        "27     Not Graduate<br>\n",
        "28     Not Graduate<br>\n",
        "29         Graduate<br>\n",
        "           ...     <br>\n",
        "584        Graduate<br>\n",
        "585        Graduate<br>\n",
        "586        Graduate<br>\n",
        "587    Not Graduate<br>\n",
        "588        Graduate<br>\n",
        "589        Graduate<br>\n",
        "590        Graduate<br>\n",
        "591        Graduate<br>\n",
        "592        Graduate<br>\n",
        "593        Graduate<br>\n",
        "594        Graduate<br>\n",
        "595    Not Graduate<br>\n",
        "596    Not Graduate<br>\n",
        "597        Graduate<br>\n",
        "598        Graduate<br>\n",
        "599        Graduate<br>\n",
        "600        Graduate<br>\n",
        "601    Not Graduate<br>\n",
        "602        Graduate<br>\n",
        "603        Graduate<br>\n",
        "604        Graduate<br>\n",
        "605    Not Graduate<br>\n",
        "606        Graduate<br>\n",
        "607    Not Graduate<br>\n",
        "608        Graduate<br>\n",
        "609        Graduate<br>\n",
        "610        Graduate<br>\n",
        "611        Graduate<br>\n",
        "612        Graduate<br>\n",
        "613        Graduate<br>\n",
        "Name: Education, Length: 614, dtype: object\n"
      ]
    },
    {
      "cell_type": "markdown",
      "metadata": {
        "id": "l5tqbavWfyyj",
        "colab_type": "text"
      },
      "source": [
        "#### Difference between Series object of pandas and ndarray of numpy\n",
        "<table>\n",
        "    <thead>\n",
        "    <td>Ndarray</td>\n",
        "    <td>Series</td>\n",
        "    </thead>\n",
        "    <tr>\n",
        "    <td>Homogeneous</td>\n",
        "    <td>Hetrogeneous</td>\n",
        "    </tr>\n",
        "    <tr>\n",
        "    <td>Integer position</td>\n",
        "    <td>Integer position or any labeled index</td>\n",
        "    </tr>\n",
        "</table>"
      ]
    },
    {
      "cell_type": "markdown",
      "metadata": {
        "id": "x9UDtLvcfyyk",
        "colab_type": "text"
      },
      "source": [
        "### 2.Dataframe\n",
        "Dataframes are the pandas equivalent of a **Numpy 2D ndarray**, with a few key differences:\n",
        "<ul>\n",
        "    <li>Axis values can have string labels, not just numeric ones.</li>\n",
        "    <li>Dataframes can contain columns with multiple data types: including integer, float, and string.</li>\n",
        "</ul>\n",
        "Syntax: <b>df = pd.DataFrame([[elements_of_list1],[elements_of_list2],[elements_of_list3].....])</b><br><br>\n",
        "Let's see an example below."
      ]
    },
    {
      "cell_type": "code",
      "metadata": {
        "id": "1T7BsMygfyyn",
        "colab_type": "code",
        "colab": {}
      },
      "source": [
        "#Run this cell\n",
        "df = pd.DataFrame([[1,'one'],[2,'two'],[3,'three']])\n",
        "df"
      ],
      "execution_count": 0,
      "outputs": []
    },
    {
      "cell_type": "markdown",
      "metadata": {
        "id": "LnDif_nOfyys",
        "colab_type": "text"
      },
      "source": [
        "So **df** above is a dataframe object.<br>\n",
        "Note that our file **\"Loan_data.csv\" is read in 'data' as a dataframe using pandas**.<br>\n",
        "So let's see different functions to manipulate a dataframe"
      ]
    },
    {
      "cell_type": "markdown",
      "metadata": {
        "id": "WyiSB_ECfyyt",
        "colab_type": "text"
      },
      "source": [
        "#### head() and tail()\n",
        "To view a small sample of a Series or the DataFrame object, use the head() and the tail() methods.<br>\n",
        "<ul>\n",
        "    <li><b>data.head(n)</b> - returns the <b>first n rows</b>(observe the index values).</li>\n",
        "    <li><b>data.tail(n)</b> - returns the <b>last n rows</b>(observe the index values).</li>\n",
        "</ul>\n",
        "Note: The <b>default number of elements to display is five</b>, but you may pass a custom number. Also, the rows are selected excluding the header from the index value.\n",
        "<br><br>\n",
        "    4. Print the <b>first 10 rows of data</b>."
      ]
    },
    {
      "cell_type": "code",
      "metadata": {
        "id": "sYS5_wQpfyyu",
        "colab_type": "code",
        "colab": {}
      },
      "source": [
        "#Enter your code below\n"
      ],
      "execution_count": 0,
      "outputs": []
    },
    {
      "cell_type": "markdown",
      "metadata": {
        "id": "hswarrmKfyy1",
        "colab_type": "text"
      },
      "source": [
        "5.Print the **last 10 rows of data**."
      ]
    },
    {
      "cell_type": "code",
      "metadata": {
        "id": "f4u_JFwofyy2",
        "colab_type": "code",
        "colab": {}
      },
      "source": [
        "#Enter your code below\n"
      ],
      "execution_count": 0,
      "outputs": []
    },
    {
      "cell_type": "markdown",
      "metadata": {
        "id": "sYg-_5Ltfyy9",
        "colab_type": "text"
      },
      "source": [
        "#### .dtypes\n",
        "It returns the dataframe's datatypes.<br>\n",
        "Syntax: **data.dtypes**<br><br>\n",
        "6.Print the **data types of all the columns of data**."
      ]
    },
    {
      "cell_type": "code",
      "metadata": {
        "id": "KoTDPOttfyy-",
        "colab_type": "code",
        "colab": {}
      },
      "source": [
        "#Enter your code below\n"
      ],
      "execution_count": 0,
      "outputs": []
    },
    {
      "cell_type": "markdown",
      "metadata": {
        "id": "f8SnYuUlgD8L",
        "colab_type": "text"
      },
      "source": [
        "Also, go through [select_dtypes()](https://pandas.pydata.org/pandas-docs/stable/reference/api/pandas.DataFrame.select_dtypes.html) function, which is useful in selecting data of particular data types."
      ]
    },
    {
      "cell_type": "markdown",
      "metadata": {
        "id": "QTuOVnijfyzE",
        "colab_type": "text"
      },
      "source": [
        "### Selecting values from a dataframe\n",
        "We have already discussed how to select a single column. No let's see how to select multiple columns.<br>\n",
        "#### Selecting multiple columns/ list of columns (Specific columns)\n",
        "Syntax: <ul>\n",
        "    <li>Explicit syntax: <b>cols = data.loc[ : ,['column1_name', 'column2_name', ....]]</b>\n",
        "    <li>Shorthand syntax: <b>data[[ 'column1_name', 'column2_name', ....]]</b></li>\n",
        "    </ul>\n",
        "<br>\n",
        "7.Select **Dependents, Credit_History and Property_Area,** columns from data"
      ]
    },
    {
      "cell_type": "code",
      "metadata": {
        "id": "pu5e9_HIfyzF",
        "colab_type": "code",
        "colab": {}
      },
      "source": [
        "#Enter your code below\n"
      ],
      "execution_count": 0,
      "outputs": []
    },
    {
      "cell_type": "markdown",
      "metadata": {
        "id": "24tlTO3zfyzK",
        "colab_type": "text"
      },
      "source": [
        "#### Selecting multiple columns / slice of columns (Continuous columns)\n",
        "Explicit syntax: <b>data.loc[ : , 'column_name_first : 'column_name_last']</b>\n",
        "<br><br>\n",
        "  8.Select **4th to 8th columns** from data."
      ]
    },
    {
      "cell_type": "code",
      "metadata": {
        "id": "bijrQzBefyzL",
        "colab_type": "code",
        "colab": {}
      },
      "source": [
        "#Enter your code below\n"
      ],
      "execution_count": 0,
      "outputs": []
    },
    {
      "cell_type": "markdown",
      "metadata": {
        "id": "pBqrjHATfyzQ",
        "colab_type": "text"
      },
      "source": [
        "#### Selecting single row \n",
        "Explicit syntax: **data.loc[ row_index ]**<br>\n",
        "\n",
        "9.Select **3rd row** from data"
      ]
    },
    {
      "cell_type": "code",
      "metadata": {
        "id": "OZt_dpABfyzR",
        "colab_type": "code",
        "colab": {}
      },
      "source": [
        "#Enter your code below\n"
      ],
      "execution_count": 0,
      "outputs": []
    },
    {
      "cell_type": "markdown",
      "metadata": {
        "id": "dghX4Rg-fyza",
        "colab_type": "text"
      },
      "source": [
        "#### Selecting multiple rows/ list of rows (Specific rows)\n",
        "Explicit syntax: **data.loc[[ row1_index, row2_index,...]]**<br><br>\n",
        "10.Select **5th, 10th and 15th rows** from data."
      ]
    },
    {
      "cell_type": "code",
      "metadata": {
        "id": "1M-mXCbAfyzc",
        "colab_type": "code",
        "colab": {}
      },
      "source": [
        "#Enter your code below\n"
      ],
      "execution_count": 0,
      "outputs": []
    },
    {
      "cell_type": "markdown",
      "metadata": {
        "id": "DTjy94n9fyzl",
        "colab_type": "text"
      },
      "source": [
        "#### Selecting multiple rows/ slice of rows (Continuous rows)\n",
        "<ul>\n",
        "    <li>Explicit syntax: <b>data.loc[ row_index_start : row_index_end ]</b></li>\n",
        "    <li>Shorthand syntax: <b>data[ row_index_start : row_index_end+1 ]</b></li>\n",
        "</ul>\n",
        "<br>\n",
        "11.Select <b>10th to 20th rows</b> from data."
      ]
    },
    {
      "cell_type": "code",
      "metadata": {
        "id": "YzlujGgbfyzo",
        "colab_type": "code",
        "colab": {}
      },
      "source": [
        "#Enter your code below\n"
      ],
      "execution_count": 0,
      "outputs": []
    },
    {
      "cell_type": "markdown",
      "metadata": {
        "id": "t3_F3DFYfyzt",
        "colab_type": "text"
      },
      "source": [
        "#### Selecting single item from series and dataframe\n",
        "If <b>s is a series object</b>, then the syntax to select a single item from it as given below:<br>\n",
        "<ul>\n",
        "    <li>Explicit syntax: <b>s.loc[ item_index/row_index ]</b></li>\n",
        "    <li>Shorthand syntax: <b>s[ item_index/row_index ]</b></li>\n",
        "</ul>\n",
        "Now, if we want to select a single item from a dataframe, first we need to select a series and then from the given series, performing the above operation will yield us the single item we need from that series.<br><br>\n",
        "i.e, example: <b>Loan_ID_at_6th = data[ 'Loan_ID' ].loc[5]</b><br>\n",
        "or, <b>Loan_ID_at_6th = data[ 'Loan_ID' ][5]</b>\n",
        "<br><br>\n",
        "12. Select the <b>13th item in the 'CoapplicantIncome' column</b> from data."
      ]
    },
    {
      "cell_type": "code",
      "metadata": {
        "id": "GpYWF-wlfyzu",
        "colab_type": "code",
        "colab": {}
      },
      "source": [
        "#Enter your code below\n",
        "\n",
        "#Expected output: 8106.0"
      ],
      "execution_count": 0,
      "outputs": []
    },
    {
      "cell_type": "markdown",
      "metadata": {
        "id": "KmAzMhaPfyzz",
        "colab_type": "text"
      },
      "source": [
        "### Selecting multiple items from a series and dataframe\n",
        "#### Selecting a list of items( specific items )  from series and dataframe\n",
        "If <b>s is a series object</b>, then the syntax to select a list of items from it as given below:<br>\n",
        "<ul>\n",
        "    <li>Explicit syntax: <b>s.loc[[ item1_index, item2_index,... ]]</b></li>\n",
        "    <li>Shorthand syntax: <b>s[[ item1_index, item2_index,... ]]</b></li>\n",
        "</ul>\n",
        "Now, if we want to select some specific items from a dataframe, first we need to select a series and then from the given series, performing the above operation will yield us the specific items we need from that series.<br><br>\n",
        "i.e, example: <b>Loan_ID_at_6th_7th = data[ 'Loan_ID' ][[5,7]]</b><br>\n",
        "or, <b>Loan_ID_at_6th_8th = data[ 'Loan_ID' ].loc[[5,7]]</b><br><br>\n",
        "13.Select the <b>9th and 12th item in the 'ApplicantIncome' column</b> from data."
      ]
    },
    {
      "cell_type": "code",
      "metadata": {
        "id": "8klAl0Amfyz2",
        "colab_type": "code",
        "colab": {}
      },
      "source": [
        "#Enter your code below\n"
      ],
      "execution_count": 0,
      "outputs": []
    },
    {
      "cell_type": "markdown",
      "metadata": {
        "id": "ebhc3luffy0B",
        "colab_type": "text"
      },
      "source": [
        "Expected output:<br>\n",
        "8     4006<br>\n",
        "11    2500<br>\n",
        "Name: ApplicantIncome, dtype: int64"
      ]
    },
    {
      "cell_type": "markdown",
      "metadata": {
        "id": "191scMJFfy0D",
        "colab_type": "text"
      },
      "source": [
        "#### Selecting a slice of items( continuous items ) from series and dataframe\n",
        "\n",
        "---\n",
        "\n",
        "\n",
        "If s is a series object, then the syntax to select a list of continuous items from it as given below:<br>\n",
        "<ul>\n",
        "    <li>Explicit syntax: <b>s.loc[ item_index_start : item_index_last ]</b></li>\n",
        "    <li>Shorthand syntax: <b>s[ item_index_start : item_index_last+1 ]</b></li>\n",
        "</ul>\n",
        "Now, if we want to select a slice of items from a dataframe, first we need to select a series and then from the given series, performing the above operation will yield us the continuous items we need from that series.<br><br>\n",
        "i.e, example: <b>Loan_ID_3rd_to_5th = data['Loan_ID'].loc[2:4]</b><br>\n",
        "or, <b>Loan_ID_3rd_to_5th = data['Loan_ID'][2:5]</b><br><br>\n",
        "14.Select <b>items from 16th to 19th rows from the 'LoanAmount' column</b> from data."
      ]
    },
    {
      "cell_type": "code",
      "metadata": {
        "id": "WifydtX0fy0F",
        "colab_type": "code",
        "colab": {}
      },
      "source": [
        "#Enter your code below\n"
      ],
      "execution_count": 0,
      "outputs": []
    },
    {
      "cell_type": "markdown",
      "metadata": {
        "id": "9UVNY8Rzfy0J",
        "colab_type": "text"
      },
      "source": [
        "Expected output:<br>\n",
        "15    125.0<br>\n",
        "16    100.0<br>\n",
        "17     76.0<br>\n",
        "18    133.0<br>\n",
        "Name: LoanAmount, dtype: float64"
      ]
    },
    {
      "cell_type": "markdown",
      "metadata": {
        "id": "bm81T7v4fy0K",
        "colab_type": "text"
      },
      "source": [
        "#### Describing a series object\n",
        "Pandas **describe()** is used to view some **basic statistical details** like percentile, mean, std etc. of a data frame or a series of numeric values.<br>\n",
        "Syntax: **series_object.describe()**<br><br>\n",
        "You can see the output of it on your own by running the cell below, which descibes the **LoanAmount** column of our data."
      ]
    },
    {
      "cell_type": "code",
      "metadata": {
        "id": "eXjE65ymfy0L",
        "colab_type": "code",
        "colab": {}
      },
      "source": [
        "#Run this cell\n",
        "data['LoanAmount'].describe()"
      ],
      "execution_count": 0,
      "outputs": []
    },
    {
      "cell_type": "markdown",
      "metadata": {
        "id": "i3zMOUq5fy0R",
        "colab_type": "text"
      },
      "source": [
        "15. Print the statistical details of **ApplicantIcome** column of data"
      ]
    },
    {
      "cell_type": "code",
      "metadata": {
        "id": "_TNs80zRfy0S",
        "colab_type": "code",
        "colab": {}
      },
      "source": [
        "#Enter your code below\n"
      ],
      "execution_count": 0,
      "outputs": []
    },
    {
      "cell_type": "markdown",
      "metadata": {
        "id": "3-8ipgOWfy0W",
        "colab_type": "text"
      },
      "source": [
        "Expected output:<br>\n",
        "count      614.000000<br>\n",
        "mean      5403.459283<br>\n",
        "std       6109.041673<br>\n",
        "min        150.000000<br>\n",
        "25%       2877.500000<br>\n",
        "50%       3812.500000<br>\n",
        "75%       5795.000000<br>\n",
        "max      81000.000000<br>\n",
        "Name: ApplicantIncome, dtype: float64"
      ]
    },
    {
      "cell_type": "markdown",
      "metadata": {
        "id": "BE1XKBiDfy0X",
        "colab_type": "text"
      },
      "source": [
        "#### Unique value counts for an item in a column\n",
        "The value_counts() function is used to get counts of unique values.<br><br>\n",
        "Syntax: **data['column_name'].value_counts().loc['item']**<br>\n",
        "This will return the count of **item** in column **column_name**.<br><br>\n",
        "This is called **method chaining** — a way to combine multiple methods together in a single line.<br>\n",
        "Yes, we have also used this before in numpy, right?<br><br>\n",
        "16. Print the **count of active loans** (Loan_Status = 'Y') from data."
      ]
    },
    {
      "cell_type": "code",
      "metadata": {
        "id": "ObURmjGZfy0Y",
        "colab_type": "code",
        "colab": {}
      },
      "source": [
        "#Enter your code below\n",
        "\n",
        "#Expected output: 422"
      ],
      "execution_count": 0,
      "outputs": []
    },
    {
      "cell_type": "markdown",
      "metadata": {
        "id": "qr3BrWCXfy0c",
        "colab_type": "text"
      },
      "source": [
        "#### Creating a new column\n",
        "Syntax: **data['new_column_name'] = value**<br><br>\n",
        "17.Create a new column **Time_period** and initialize it with 0 and **print data**."
      ]
    },
    {
      "cell_type": "code",
      "metadata": {
        "id": "bIFV6TYSfy0d",
        "colab_type": "code",
        "colab": {}
      },
      "source": [
        "#Enter your code below\n"
      ],
      "execution_count": 0,
      "outputs": []
    },
    {
      "cell_type": "markdown",
      "metadata": {
        "id": "qEcNE4ssfy0g",
        "colab_type": "text"
      },
      "source": [
        "You can see a new column added in the data!<br>\n",
        "Now it's time to use the concepts you have studied till now here. So let's solve the following problems with the knowledge you have acquired till now!<br>\n",
        "### Vectorisation problems\n",
        "16. Create a new column **Total_income** and store the **sum of ApplicantIncome and CoapplicantIncome** from data."
      ]
    },
    {
      "cell_type": "code",
      "metadata": {
        "id": "g6LriQhBfy0g",
        "colab_type": "code",
        "colab": {}
      },
      "source": [
        "#Enter your code below\n"
      ],
      "execution_count": 0,
      "outputs": []
    },
    {
      "cell_type": "markdown",
      "metadata": {
        "id": "M-65I6ryfy0l",
        "colab_type": "text"
      },
      "source": [
        "17.Create a new column **Diff** and store the **difference of LoanAmount and and Total_income**."
      ]
    },
    {
      "cell_type": "code",
      "metadata": {
        "id": "pnVaWybyfy0n",
        "colab_type": "code",
        "colab": {}
      },
      "source": [
        "#Enter your code below\n"
      ],
      "execution_count": 0,
      "outputs": []
    },
    {
      "cell_type": "markdown",
      "metadata": {
        "id": "libv7cwEfy0r",
        "colab_type": "text"
      },
      "source": [
        "### Broadcasting problem\n",
        "18. The **Loan_Amount_term is asked to be multiplied by 10** ny the manager.Make the necessary changes and print the new data. "
      ]
    },
    {
      "cell_type": "code",
      "metadata": {
        "id": "uXl6sl1Afy0r",
        "colab_type": "code",
        "colab": {}
      },
      "source": [
        "#Enter your code below\n"
      ],
      "execution_count": 0,
      "outputs": []
    },
    {
      "cell_type": "markdown",
      "metadata": {
        "id": "0WNF6I-7fy0u",
        "colab_type": "text"
      },
      "source": [
        "### Boolean filtering\n",
        "19. Print the data of applicants having **Loan_Amount_Term = 480**."
      ]
    },
    {
      "cell_type": "code",
      "metadata": {
        "id": "b1pYbfIGfy0v",
        "colab_type": "code",
        "colab": {}
      },
      "source": [
        "#Enter your code below\n"
      ],
      "execution_count": 0,
      "outputs": []
    },
    {
      "cell_type": "markdown",
      "metadata": {
        "id": "ENWzdUZkfy0y",
        "colab_type": "text"
      },
      "source": [
        "20.Print the data of applicant whose **Property_area ='Semiurban'**."
      ]
    },
    {
      "cell_type": "code",
      "metadata": {
        "id": "sKGzS0Rffy0z",
        "colab_type": "code",
        "colab": {}
      },
      "source": [
        "#Enter your code below\n"
      ],
      "execution_count": 0,
      "outputs": []
    },
    {
      "cell_type": "markdown",
      "metadata": {
        "id": "PSjT7pGCfy05",
        "colab_type": "text"
      },
      "source": [
        "So, we have come to an end of the fourth notebook. And I would like to stress on the fact that there is a lot more to pandas than we have discussed here.So if you are interested you can continue and learn more cool stuff that pandas can do. We have given you a beginning and basic ideas. Now you are set to explore more advanced topics.<br><br>\n",
        "Links:<br>\n",
        "[https://www.w3resource.com/python-exercises/pandas/index.php](https://www.w3resource.com/python-exercises/pandas/index.php)<br>\n",
        "[https://towardsdatascience.com/data-visualization-exploration-using-pandas-only-beginner-a0a52eb723d5](https://towardsdatascience.com/data-visualization-exploration-using-pandas-only-beginner-a0a52eb723d5)<br>\n",
        "[https://pandas.pydata.org/pandas-docs/stable/getting_started/basics.html](https://pandas.pydata.org/pandas-docs/stable/getting_started/basics.html)<br>\n",
        "[https://mode.com/python-tutorial/python-filtering-with-boolean-indexes/](https://mode.com/python-tutorial/python-filtering-with-boolean-indexes/)<br>\n",
        "[https://towardsdatascience.com/data-science-with-python-intro-to-loading-and-subsetting-data-with-pandas-9f26895ddd7f](https://towardsdatascience.com/data-science-with-python-intro-to-loading-and-subsetting-data-with-pandas-9f26895ddd7f)<br><br>\n",
        "So, see you in the next notebook where we will start a completely different library, **matplotlib**. It's gonna be interesting visulaizing the data!<br>\n",
        "## Happy learning!"
      ]
    }
  ]
}